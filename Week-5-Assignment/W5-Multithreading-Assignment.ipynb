{
 "cells": [
  {
   "cell_type": "markdown",
   "id": "eabca9c3-4703-4332-857a-f0902ba407fa",
   "metadata": {},
   "source": [
    "### Q1: What is multithreading in python? Why is it used? Name the module used to handle threads in python\n",
    "\n",
    "- Multithreading is nothing but performing multiple tasks at time but when one is paused then 2nd task can performed.\n",
    "- This is best way to utilize the full capacity of any processor.\n",
    "- threading is used to handle the threads in python."
   ]
  },
  {
   "cell_type": "markdown",
   "id": "984a22ce-e48e-4a07-8a35-86d3bf401635",
   "metadata": {},
   "source": [
    "### Q2. Why threading module used? Write the use of the following functions: activeCount, currentThread, enumerate.\n",
    "\n",
    "Threading module is used to create threads. It provides functionality to perform multiple operation, when main function is paused then next function can start executing.\n",
    "#### 1. activeCount - This is used to get the active count from the current threads group\n",
    "#### 2. currentThread - This is used to get the current thrad.\n",
    "#### 3. enumerate - This is used to get the all the thread objects of current thread group."
   ]
  },
  {
   "cell_type": "markdown",
   "id": "1ded6a8f-1293-4a62-85bd-39650f626a0d",
   "metadata": {},
   "source": [
    "### Q3. Explain the following functions (run, start, join, isAlive)\n",
    "\n",
    "1. Run - This is the entry point of the thread. \n",
    "2. Start - This is used to start the thread which is in runnable.\n",
    "3. Join - This is used to terminate the thread after it is completed.\n",
    "4. isAlive - This is used to check if the thread is still executing or not."
   ]
  },
  {
   "cell_type": "markdown",
   "id": "3fdab016-7422-4f15-9071-dcd7e3767a58",
   "metadata": {},
   "source": [
    "### Q4. write a python program to create two threads. Thread one must print the list of squares and thread two must print the list of cubes"
   ]
  },
  {
   "cell_type": "code",
   "execution_count": 27,
   "id": "cfbca8e2-5565-4fff-b7e4-f91fcf0d76f3",
   "metadata": {},
   "outputs": [
    {
     "name": "stdout",
     "output_type": "stream",
     "text": [
      "Square of 12 is 144\n",
      "Cube of 12 is 1728\n",
      "Square of 54 is 2916Cube of 54 is 157464\n",
      "\n",
      "Cube of 20 is 8000\n",
      "Square of 20 is 400\n",
      "Cube of 55 is 166375\n",
      "Square of 55 is 3025\n",
      "Cube of 13 is 2197\n",
      "Square of 13 is 169\n"
     ]
    }
   ],
   "source": [
    "import threading\n",
    "import time\n",
    "\n",
    "def get_square(num_list):\n",
    "    for n in num_list:\n",
    "        print(f'Square of {n} is {n**2}')\n",
    "        time.sleep(1)\n",
    "\n",
    "def get_cube(num_list):\n",
    "    for n in num_list:\n",
    "        print(f'Cube of {n} is {n**3}')\n",
    "        time.sleep(1)\n",
    "\n",
    "lst_nums = [12, 54, 20, 55, 13]\n",
    "\n",
    "square_thread = threading.Thread(target=get_square, args=(lst_nums,))\n",
    "cube_thread = threading.Thread(target=get_cube, args=(lst_nums,))\n",
    "\n",
    "square_thread.start()\n",
    "cube_thread.start()\n",
    "\n",
    "square_thread.join()\n",
    "cube_thread.join()"
   ]
  },
  {
   "cell_type": "markdown",
   "id": "9f4ed627-d9e4-4f97-ab3b-1ac5da657ffd",
   "metadata": {},
   "source": [
    "### Q5. State advantages and disadvantages of multithreading\n",
    "\n",
    "Advantages:\n",
    "- Executes multiple programs at a time.\n",
    "- Better utilisation of the multiprocessor systems.\n",
    "- Better user interface for the Gui applications.\n",
    "- Improves performance of the application.\n",
    "\n",
    "Disadvantages:\n",
    "- Difficult to debug the programm.\n",
    "- Handling the threads is overhead to the developers\n",
    "- Managing the shared data is also an overhead for the devs.\n"
   ]
  },
  {
   "cell_type": "markdown",
   "id": "591a2302-47a1-4a56-b647-0b0d5736cdb7",
   "metadata": {},
   "source": [
    "# Q6. Explain deadlocks and race conditions.\n",
    "\n",
    "- Deadlock - occurs when threads wait for each other.\n",
    "- Race conditions - occurs when multiple threads uses same data at a time.\n",
    "\n",
    "They both occure in Multithreading, which then results in bad performance of the application."
   ]
  },
  {
   "cell_type": "code",
   "execution_count": null,
   "id": "df6846c9-f760-43b3-b489-dfd0c6743f90",
   "metadata": {},
   "outputs": [],
   "source": []
  }
 ],
 "metadata": {
  "kernelspec": {
   "display_name": "Python 3 (ipykernel)",
   "language": "python",
   "name": "python3"
  },
  "language_info": {
   "codemirror_mode": {
    "name": "ipython",
    "version": 3
   },
   "file_extension": ".py",
   "mimetype": "text/x-python",
   "name": "python",
   "nbconvert_exporter": "python",
   "pygments_lexer": "ipython3",
   "version": "3.10.8"
  }
 },
 "nbformat": 4,
 "nbformat_minor": 5
}
