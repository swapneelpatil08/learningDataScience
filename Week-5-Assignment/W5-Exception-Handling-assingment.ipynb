{
 "cells": [
  {
   "cell_type": "markdown",
   "id": "066db798-3030-4223-9ec7-ba682addf2f3",
   "metadata": {},
   "source": [
    "### Q1. What is an Expetion in Python? Write the differnece between Exceptions and Syntax errors\n",
    "\n",
    "- Exception is like an event which occures when system is not able to process intended operation which then disrupts the normal flow of the program.\n",
    "- Exceptions are something raised by the system while executing the program, where as Syntax error are something which are raised while compiling the program."
   ]
  },
  {
   "cell_type": "code",
   "execution_count": null,
   "id": "597ce92a-571f-4ba3-b3b7-4070dde7547c",
   "metadata": {},
   "outputs": [],
   "source": []
  },
  {
   "cell_type": "markdown",
   "id": "e86dde38-8bdb-4929-b10e-fe3d02fef39e",
   "metadata": {},
   "source": [
    "# Q2: What happens when an exception is not handled? Explain with an example.\n",
    "\n",
    "- If the exceptions are not handled then system will raise those exceptions and it will throw us out of the program. So as a result complete program will not run."
   ]
  },
  {
   "cell_type": "code",
   "execution_count": 3,
   "id": "43e45c85-6965-4fc9-a6b1-2c6bcecc1993",
   "metadata": {},
   "outputs": [
    {
     "ename": "TypeError",
     "evalue": "unsupported operand type(s) for ** or pow(): 'str' and 'int'",
     "output_type": "error",
     "traceback": [
      "\u001b[0;31m---------------------------------------------------------------------------\u001b[0m",
      "\u001b[0;31mTypeError\u001b[0m                                 Traceback (most recent call last)",
      "Cell \u001b[0;32mIn[3], line 4\u001b[0m\n\u001b[1;32m      1\u001b[0m \u001b[38;5;28;01mdef\u001b[39;00m \u001b[38;5;21msquare\u001b[39m(n):\n\u001b[1;32m      2\u001b[0m     \u001b[38;5;28;01mreturn\u001b[39;00m n\u001b[38;5;241m*\u001b[39m\u001b[38;5;241m*\u001b[39m\u001b[38;5;241m2\u001b[39m\n\u001b[0;32m----> 4\u001b[0m \u001b[43msquare\u001b[49m\u001b[43m(\u001b[49m\u001b[38;5;124;43m\"\u001b[39;49m\u001b[38;5;124;43mQwerty\u001b[39;49m\u001b[38;5;124;43m\"\u001b[39;49m\u001b[43m)\u001b[49m    \n",
      "Cell \u001b[0;32mIn[3], line 2\u001b[0m, in \u001b[0;36msquare\u001b[0;34m(n)\u001b[0m\n\u001b[1;32m      1\u001b[0m \u001b[38;5;28;01mdef\u001b[39;00m \u001b[38;5;21msquare\u001b[39m(n):\n\u001b[0;32m----> 2\u001b[0m     \u001b[38;5;28;01mreturn\u001b[39;00m \u001b[43mn\u001b[49m\u001b[38;5;241;43m*\u001b[39;49m\u001b[38;5;241;43m*\u001b[39;49m\u001b[38;5;241;43m2\u001b[39;49m\n",
      "\u001b[0;31mTypeError\u001b[0m: unsupported operand type(s) for ** or pow(): 'str' and 'int'"
     ]
    }
   ],
   "source": [
    "def square(n):\n",
    "    return n**2\n",
    "\n",
    "square(\"Qwerty\")    "
   ]
  },
  {
   "cell_type": "code",
   "execution_count": null,
   "id": "52ede2bb-7069-4b8f-991b-5aeb9dc4f42a",
   "metadata": {},
   "outputs": [],
   "source": []
  },
  {
   "cell_type": "markdown",
   "id": "f682c0ce-5bbf-4ee0-b3ce-ff018969cb6e",
   "metadata": {},
   "source": [
    "### Q3: Which Python statement are used to catch and handle exception? Give an example.\n",
    "\n",
    "- Try-except-finally are used to catch and handle exception"
   ]
  },
  {
   "cell_type": "code",
   "execution_count": 10,
   "id": "ada202f1-51c7-4d04-8812-148aec0e275d",
   "metadata": {},
   "outputs": [
    {
     "name": "stdout",
     "output_type": "stream",
     "text": [
      "1984998501235684\n"
     ]
    }
   ],
   "source": [
    "def square(n):\n",
    "    return n**2\n",
    "\n",
    "try:\n",
    "    print(square(44553322))\n",
    "except Exception as e:\n",
    "    print(\"Handling exception here:\", e)  "
   ]
  },
  {
   "cell_type": "code",
   "execution_count": null,
   "id": "61c78d07-f0ef-41e2-a398-598e57f219c1",
   "metadata": {},
   "outputs": [],
   "source": []
  },
  {
   "cell_type": "markdown",
   "id": "b230d723-dd82-4b07-ac75-af6434fbccec",
   "metadata": {},
   "source": [
    "### Explain with example\n",
    "\n",
    "- try and else - First try will be executed and if try block completes sucessfully then only else will run.\n",
    "- finally - Doesn't matter if the try block successfully runs, Finally block will be executed at all times.\n",
    "- raise - This is to throw an exception."
   ]
  },
  {
   "cell_type": "code",
   "execution_count": 12,
   "id": "cafe9eed-78b1-4e27-95d7-c8a2c9dfcc7d",
   "metadata": {},
   "outputs": [
    {
     "name": "stdin",
     "output_type": "stream",
     "text": [
      "Enter a number: 12\n"
     ]
    },
    {
     "name": "stdout",
     "output_type": "stream",
     "text": [
      "You have entered 12\n"
     ]
    }
   ],
   "source": [
    "### try and else\n",
    "\n",
    "try:\n",
    "    val = int(input(\"Enter a number:\"))\n",
    "except Exception as e:\n",
    "    print(\"Came across an exception:\", e)\n",
    "else:\n",
    "    print(\"You have entered\", val)"
   ]
  },
  {
   "cell_type": "code",
   "execution_count": 19,
   "id": "4d8c7bb7-dff0-44a2-9187-ad2d01ce6cf5",
   "metadata": {},
   "outputs": [
    {
     "name": "stdout",
     "output_type": "stream",
     "text": [
      "Handling IndexError here: list index out of range\n",
      "[1, 2, 9, 64, 625, 7776, 117649, 2097152, 43046721]\n"
     ]
    }
   ],
   "source": [
    "## try-except-finally\n",
    "\n",
    "def find_power(a,n):\n",
    "    return a**n\n",
    "\n",
    "lst = [1,2,3,4,5,6,7,8,9]\n",
    "power_lst= []\n",
    "\n",
    "try:\n",
    "    for i in range(12):\n",
    "        power_lst.append(find_power(lst[i], i))\n",
    "except IndexError as e:\n",
    "    print(\"Handling IndexError here:\", e)\n",
    "except Exception as a:\n",
    "    print(\"Handling Exception here:\", a)\n",
    "finally:\n",
    "    print(power_lst) ## tp print whatever we have in our power_lst\n",
    "    "
   ]
  },
  {
   "cell_type": "code",
   "execution_count": 29,
   "id": "fd250db2-d433-4ee0-bf35-370169b6e255",
   "metadata": {},
   "outputs": [
    {
     "name": "stdout",
     "output_type": "stream",
     "text": [
      "ALL OKAY? No\n"
     ]
    },
    {
     "ename": "FileNotFoundError",
     "evalue": "",
     "output_type": "error",
     "traceback": [
      "\u001b[0;31m---------------------------------------------------------------------------\u001b[0m",
      "\u001b[0;31mFileNotFoundError\u001b[0m                         Traceback (most recent call last)",
      "Cell \u001b[0;32mIn[29], line 4\u001b[0m\n\u001b[1;32m      3\u001b[0m \u001b[38;5;28;01mtry\u001b[39;00m :\n\u001b[0;32m----> 4\u001b[0m     \u001b[38;5;28;43mopen\u001b[39;49m\u001b[43m(\u001b[49m\u001b[38;5;124;43m\"\u001b[39;49m\u001b[38;5;124;43mmissing_file.txt\u001b[39;49m\u001b[38;5;124;43m\"\u001b[39;49m\u001b[43m,\u001b[49m\u001b[43m \u001b[49m\u001b[38;5;124;43m\"\u001b[39;49m\u001b[38;5;124;43mr\u001b[39;49m\u001b[38;5;124;43m\"\u001b[39;49m\u001b[43m)\u001b[49m\n\u001b[1;32m      5\u001b[0m \u001b[38;5;28;01mexcept\u001b[39;00m \u001b[38;5;167;01mFileNotFoundError\u001b[39;00m \u001b[38;5;28;01mas\u001b[39;00m e :\n",
      "File \u001b[0;32m/opt/conda/lib/python3.10/site-packages/IPython/core/interactiveshell.py:282\u001b[0m, in \u001b[0;36m_modified_open\u001b[0;34m(file, *args, **kwargs)\u001b[0m\n\u001b[1;32m    276\u001b[0m     \u001b[38;5;28;01mraise\u001b[39;00m \u001b[38;5;167;01mValueError\u001b[39;00m(\n\u001b[1;32m    277\u001b[0m         \u001b[38;5;124mf\u001b[39m\u001b[38;5;124m\"\u001b[39m\u001b[38;5;124mIPython won\u001b[39m\u001b[38;5;124m'\u001b[39m\u001b[38;5;124mt let you open fd=\u001b[39m\u001b[38;5;132;01m{\u001b[39;00mfile\u001b[38;5;132;01m}\u001b[39;00m\u001b[38;5;124m by default \u001b[39m\u001b[38;5;124m\"\u001b[39m\n\u001b[1;32m    278\u001b[0m         \u001b[38;5;124m\"\u001b[39m\u001b[38;5;124mas it is likely to crash IPython. If you know what you are doing, \u001b[39m\u001b[38;5;124m\"\u001b[39m\n\u001b[1;32m    279\u001b[0m         \u001b[38;5;124m\"\u001b[39m\u001b[38;5;124myou can use builtins\u001b[39m\u001b[38;5;124m'\u001b[39m\u001b[38;5;124m open.\u001b[39m\u001b[38;5;124m\"\u001b[39m\n\u001b[1;32m    280\u001b[0m     )\n\u001b[0;32m--> 282\u001b[0m \u001b[38;5;28;01mreturn\u001b[39;00m \u001b[43mio_open\u001b[49m\u001b[43m(\u001b[49m\u001b[43mfile\u001b[49m\u001b[43m,\u001b[49m\u001b[43m \u001b[49m\u001b[38;5;241;43m*\u001b[39;49m\u001b[43margs\u001b[49m\u001b[43m,\u001b[49m\u001b[43m \u001b[49m\u001b[38;5;241;43m*\u001b[39;49m\u001b[38;5;241;43m*\u001b[39;49m\u001b[43mkwargs\u001b[49m\u001b[43m)\u001b[49m\n",
      "\u001b[0;31mFileNotFoundError\u001b[0m: [Errno 2] No such file or directory: 'missing_file.txt'",
      "\nDuring handling of the above exception, another exception occurred:\n",
      "\u001b[0;31mFileNotFoundError\u001b[0m                         Traceback (most recent call last)",
      "Cell \u001b[0;32mIn[29], line 6\u001b[0m\n\u001b[1;32m      4\u001b[0m     \u001b[38;5;28mopen\u001b[39m(\u001b[38;5;124m\"\u001b[39m\u001b[38;5;124mmissing_file.txt\u001b[39m\u001b[38;5;124m\"\u001b[39m, \u001b[38;5;124m\"\u001b[39m\u001b[38;5;124mr\u001b[39m\u001b[38;5;124m\"\u001b[39m)\n\u001b[1;32m      5\u001b[0m \u001b[38;5;28;01mexcept\u001b[39;00m \u001b[38;5;167;01mFileNotFoundError\u001b[39;00m \u001b[38;5;28;01mas\u001b[39;00m e :\n\u001b[0;32m----> 6\u001b[0m     \u001b[38;5;28;01mraise\u001b[39;00m \u001b[38;5;167;01mFileNotFoundError\u001b[39;00m()\n\u001b[1;32m      7\u001b[0m \u001b[38;5;28;01mfinally\u001b[39;00m:\n\u001b[1;32m      8\u001b[0m     \u001b[38;5;28mprint\u001b[39m(\u001b[38;5;124m\"\u001b[39m\u001b[38;5;124mALL OKAY? No\u001b[39m\u001b[38;5;124m\"\u001b[39m)\n",
      "\u001b[0;31mFileNotFoundError\u001b[0m: "
     ]
    }
   ],
   "source": [
    "## raise\n",
    "        \n",
    "try :\n",
    "    open(\"missing_file.txt\", \"r\")\n",
    "except FileNotFoundError as e :\n",
    "    raise FileNotFoundError()\n",
    "finally:\n",
    "    print(\"ALL OKAY? No\")"
   ]
  },
  {
   "cell_type": "code",
   "execution_count": null,
   "id": "9babbe81-2a81-40b2-a58c-4c0e0ab08949",
   "metadata": {},
   "outputs": [],
   "source": []
  },
  {
   "cell_type": "markdown",
   "id": "d952f273-9267-4ce7-a614-eb7da9d4832f",
   "metadata": {},
   "source": [
    "### Create a custom exception class. Use this class to handle exception."
   ]
  },
  {
   "cell_type": "code",
   "execution_count": 30,
   "id": "02face1e-e1d9-4a68-bc44-ebef7f1317c6",
   "metadata": {},
   "outputs": [
    {
     "name": "stdin",
     "output_type": "stream",
     "text": [
      "Enter your age 400\n"
     ]
    },
    {
     "name": "stdout",
     "output_type": "stream",
     "text": [
      "Age is too high\n"
     ]
    }
   ],
   "source": [
    "class validateage(Exception):\n",
    "    def __init__(self, message):\n",
    "        self.msg = message\n",
    "\n",
    "def validate_age(age):\n",
    "    if age < 0 :\n",
    "        raise validateage(\"Age should not be less than 0\")\n",
    "    elif age > 200:\n",
    "        raise validateage(\"Age is too high\")\n",
    "    else:\n",
    "        print(\"It's a valid age\")\n",
    "        \n",
    "try :\n",
    "    validate_age(int(input(\"Enter your age\")))\n",
    "except validateage as e :\n",
    "    print(e)"
   ]
  },
  {
   "cell_type": "code",
   "execution_count": null,
   "id": "30f458da-e185-4f09-b6db-3596184c56e4",
   "metadata": {},
   "outputs": [],
   "source": []
  }
 ],
 "metadata": {
  "kernelspec": {
   "display_name": "Python 3 (ipykernel)",
   "language": "python",
   "name": "python3"
  },
  "language_info": {
   "codemirror_mode": {
    "name": "ipython",
    "version": 3
   },
   "file_extension": ".py",
   "mimetype": "text/x-python",
   "name": "python",
   "nbconvert_exporter": "python",
   "pygments_lexer": "ipython3",
   "version": "3.10.8"
  }
 },
 "nbformat": 4,
 "nbformat_minor": 5
}
