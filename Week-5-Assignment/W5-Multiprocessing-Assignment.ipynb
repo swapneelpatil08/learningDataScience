{
 "cells": [
  {
   "cell_type": "markdown",
   "id": "ae70d0ca-3ea9-4354-9e9d-7c88bd2bac3b",
   "metadata": {},
   "source": [
    "### Q1. What is multiprocessing in python? Why is it useful?\n",
    "\n",
    "When we  run multiple programms at a time, then it's called Multiprocessing. For this we need to have multiple processors in our system. Let's if we have 4 core processors then we can run 4 programs at a time.\n",
    "Also, shared data can be accesses by them with no issues.\n",
    "This actually inhances the overall performance of the application and system."
   ]
  },
  {
   "cell_type": "markdown",
   "id": "c05188d5-3484-4520-ac6f-5ed49329fb45",
   "metadata": {},
   "source": [
    "### Q2. What are the differences between multiprocessing and multithreading?\n",
    "\n",
    "\n",
    "| Multiprocessing  | Multithreading |\n",
    "| ---------------- | -------------- |\n",
    "| This uses multiple processors at a time.  | This uses single processors at a time  |\n",
    "| Multiple Threads can run in each processors |  Multiple threads run in single processors  |\n",
    "| Multiple processes can run at a time  | Multiple instance of a single processes runs at a time |\n",
    "| Every process own space to execution  | Shared space between the threads.  |"
   ]
  },
  {
   "cell_type": "markdown",
   "id": "8f6cdf04-b80a-4992-9a32-2950323fa6cd",
   "metadata": {},
   "source": [
    "### Q3. Write a python code to create a process using the multiprocessing module."
   ]
  },
  {
   "cell_type": "code",
   "execution_count": 3,
   "id": "ce2ec889-a557-4be5-890b-d8571f3532be",
   "metadata": {},
   "outputs": [
    {
     "ename": "TypeError",
     "evalue": "'int' object is not iterable",
     "output_type": "error",
     "traceback": [
      "\u001b[0;31m---------------------------------------------------------------------------\u001b[0m",
      "\u001b[0;31mTypeError\u001b[0m                                 Traceback (most recent call last)",
      "Cell \u001b[0;32mIn[3], line 18\u001b[0m\n\u001b[1;32m     16\u001b[0m \u001b[38;5;66;03m# arr = (3,45,7,8,9,32,11,55,6,9)\u001b[39;00m\n\u001b[1;32m     17\u001b[0m \u001b[38;5;28;01mfor\u001b[39;00m i \u001b[38;5;129;01min\u001b[39;00m arr:\n\u001b[0;32m---> 18\u001b[0m     m1 \u001b[38;5;241m=\u001b[39m \u001b[43mmultiprocessing\u001b[49m\u001b[38;5;241;43m.\u001b[39;49m\u001b[43mProcess\u001b[49m\u001b[43m(\u001b[49m\u001b[43mtarget\u001b[49m\u001b[38;5;241;43m=\u001b[39;49m\u001b[43mis_odd_number\u001b[49m\u001b[43m,\u001b[49m\u001b[43m \u001b[49m\u001b[43margs\u001b[49m\u001b[38;5;241;43m=\u001b[39;49m\u001b[43m(\u001b[49m\u001b[43mi\u001b[49m\u001b[43m)\u001b[49m\u001b[43m)\u001b[49m\n\u001b[1;32m     19\u001b[0m     \u001b[38;5;66;03m# m2 = multiprocessing.Process(target=is_prime_number, args=(i))\u001b[39;00m\n\u001b[1;32m     20\u001b[0m     m1\u001b[38;5;241m.\u001b[39mstart()\n",
      "File \u001b[0;32m/opt/conda/lib/python3.10/multiprocessing/process.py:91\u001b[0m, in \u001b[0;36mBaseProcess.__init__\u001b[0;34m(self, group, target, name, args, kwargs, daemon)\u001b[0m\n\u001b[1;32m     89\u001b[0m \u001b[38;5;28mself\u001b[39m\u001b[38;5;241m.\u001b[39m_closed \u001b[38;5;241m=\u001b[39m \u001b[38;5;28;01mFalse\u001b[39;00m\n\u001b[1;32m     90\u001b[0m \u001b[38;5;28mself\u001b[39m\u001b[38;5;241m.\u001b[39m_target \u001b[38;5;241m=\u001b[39m target\n\u001b[0;32m---> 91\u001b[0m \u001b[38;5;28mself\u001b[39m\u001b[38;5;241m.\u001b[39m_args \u001b[38;5;241m=\u001b[39m \u001b[38;5;28;43mtuple\u001b[39;49m\u001b[43m(\u001b[49m\u001b[43margs\u001b[49m\u001b[43m)\u001b[49m\n\u001b[1;32m     92\u001b[0m \u001b[38;5;28mself\u001b[39m\u001b[38;5;241m.\u001b[39m_kwargs \u001b[38;5;241m=\u001b[39m \u001b[38;5;28mdict\u001b[39m(kwargs)\n\u001b[1;32m     93\u001b[0m \u001b[38;5;28mself\u001b[39m\u001b[38;5;241m.\u001b[39m_name \u001b[38;5;241m=\u001b[39m name \u001b[38;5;129;01mor\u001b[39;00m \u001b[38;5;28mtype\u001b[39m(\u001b[38;5;28mself\u001b[39m)\u001b[38;5;241m.\u001b[39m\u001b[38;5;18m__name__\u001b[39m \u001b[38;5;241m+\u001b[39m \u001b[38;5;124m'\u001b[39m\u001b[38;5;124m-\u001b[39m\u001b[38;5;124m'\u001b[39m \u001b[38;5;241m+\u001b[39m \\\n\u001b[1;32m     94\u001b[0m              \u001b[38;5;124m'\u001b[39m\u001b[38;5;124m:\u001b[39m\u001b[38;5;124m'\u001b[39m\u001b[38;5;241m.\u001b[39mjoin(\u001b[38;5;28mstr\u001b[39m(i) \u001b[38;5;28;01mfor\u001b[39;00m i \u001b[38;5;129;01min\u001b[39;00m \u001b[38;5;28mself\u001b[39m\u001b[38;5;241m.\u001b[39m_identity)\n",
      "\u001b[0;31mTypeError\u001b[0m: 'int' object is not iterable"
     ]
    }
   ],
   "source": [
    "import multiprocessing\n",
    "\n",
    "def is_odd_number(n):\n",
    "    if n%2 != 0:\n",
    "        print(f'Given {n} is an odd number.')\n",
    "        \n",
    "def is_prime_number(n):\n",
    "    for i in range(2, n):\n",
    "        if(i <= n+1/2 or n%i == 0):\n",
    "            break\n",
    "        print(f'{n} is a prime number.')\n",
    "        \n",
    "        \n",
    "if __name__ == \"__main__\":\n",
    "    arr = multiprocessing.Array(\"i\", [3,45,7,8,9,32,11,55,6,9])\n",
    "    # arr = (3,45,7,8,9,32,11,55,6,9)\n",
    "    for i in arr:\n",
    "        m1 = multiprocessing.Process(target=is_odd_number, args=(i))\n",
    "        # m2 = multiprocessing.Process(target=is_prime_number, args=(i))\n",
    "        m1.start()\n",
    "        # m2.start()\n",
    "        m1.join()\n",
    "        # m2.join()\n",
    "    "
   ]
  },
  {
   "cell_type": "code",
   "execution_count": null,
   "id": "14f7694a-d364-4967-9299-e154939463d4",
   "metadata": {},
   "outputs": [],
   "source": []
  },
  {
   "cell_type": "markdown",
   "id": "6c638bcf-603e-4fe6-9668-151821974f60",
   "metadata": {},
   "source": [
    "### Q4. What is a multiprocessing pool in python? Why is it used?\n",
    "\n",
    "It's a pattern which automatically manages the worker processes. These pools can be created automatically when they are needed.\n",
    "When they are not needed then you, it automatically handles them to use minimum processor.\n",
    "\n",
    "They can be created by `multiprocessor.Pool()` function."
   ]
  },
  {
   "cell_type": "code",
   "execution_count": null,
   "id": "e3f9d8c5-08d7-41a9-aa18-fca78e2a90e0",
   "metadata": {},
   "outputs": [],
   "source": []
  },
  {
   "cell_type": "markdown",
   "id": "bac27baa-5d72-4251-961a-e7fa5d22d70d",
   "metadata": {},
   "source": [
    "### Q5. How can we create a pool of worker processes in python using the multiprocessing module?\n",
    "\n",
    "We need to use the `multiprocssor.Pool()` to craete worker pool object then we can use `.map()` or `.apply()` to create it asynchronously."
   ]
  },
  {
   "cell_type": "code",
   "execution_count": null,
   "id": "11fad028-07a6-43c1-8335-6f6d39bb9b28",
   "metadata": {},
   "outputs": [],
   "source": []
  },
  {
   "cell_type": "markdown",
   "id": "85959c79-2a1d-44f5-94a8-ee677802f4ff",
   "metadata": {},
   "source": [
    "### Q6. Write a python program to create 4 processes, each process should print a different number using the multiprocessing module in python."
   ]
  },
  {
   "cell_type": "code",
   "execution_count": 16,
   "id": "e1069cde-9ce2-4432-bb94-0e3986386b9f",
   "metadata": {},
   "outputs": [
    {
     "name": "stdout",
     "output_type": "stream",
     "text": [
      "Number is 0     Square: 0     Cube : 0     Even\n",
      "Number is 1     Square: 1     Cube : 1     Odd\n",
      "Number is 2     Square: 4     Cube : 8     Even\n",
      "Number is 3     Square: 9     Cube : 27     Odd\n",
      "Number is 4     Square: 16     Cube : 64     Even\n",
      "Number is 5     Square: 25     Cube : 125     Odd\n",
      "Number is 6     Square: 36     Cube : 216     Even\n",
      "Number is 7     Square: 49     Cube : 343     Odd\n",
      "Number is 8     Even\n",
      "Number is 9     Square: 81     Cube : 729     Square: 64Cube : 512Odd          \n"
     ]
    }
   ],
   "source": [
    "import multiprocessing\n",
    "\n",
    "def number(n):\n",
    "    print(f'Number is {n}', end=\"     \")   \n",
    "\n",
    "def square(n):\n",
    "    print(f'Square: {n**2}', end=\"     \")   \n",
    "    \n",
    "def cubes(n):\n",
    "    print(f'Cube : {n**3}', end=\"     \")\n",
    "    \n",
    "def is_odd_number(n):\n",
    "    if n % 2 == 0:\n",
    "        print(f'Even')\n",
    "    else:\n",
    "        print(f'Odd')\n",
    "        \n",
    "    \n",
    "    \n",
    "if __name__ == \"__main__\":\n",
    "    arr = multiprocessing.Array(\"i\", [1,2,3,4,5,6])\n",
    "    processes = []\n",
    "    for i in range(10):\n",
    "        m = multiprocessing.Process(target=number, args=(i,))\n",
    "        processes.append(m)\n",
    "        m1 = multiprocessing.Process(target=square, args=(i,))\n",
    "        processes.append(m1)\n",
    "        m2 = multiprocessing.Process(target=cubes, args=(i,))\n",
    "        processes.append(m2)\n",
    "        m3 = multiprocessing.Process(target=is_odd_number, args=(i,))\n",
    "        processes.append(m3)\n",
    "        m.start()\n",
    "        m1.start()\n",
    "        m2.start()\n",
    "        m3.start()\n",
    "    for m in processes:\n",
    "        m.join();\n",
    "    "
   ]
  },
  {
   "cell_type": "code",
   "execution_count": null,
   "id": "beb4bb0d-07fc-4944-bfbd-4189e4831d2c",
   "metadata": {},
   "outputs": [],
   "source": []
  }
 ],
 "metadata": {
  "kernelspec": {
   "display_name": "Python 3 (ipykernel)",
   "language": "python",
   "name": "python3"
  },
  "language_info": {
   "codemirror_mode": {
    "name": "ipython",
    "version": 3
   },
   "file_extension": ".py",
   "mimetype": "text/x-python",
   "name": "python",
   "nbconvert_exporter": "python",
   "pygments_lexer": "ipython3",
   "version": "3.10.8"
  }
 },
 "nbformat": 4,
 "nbformat_minor": 5
}
