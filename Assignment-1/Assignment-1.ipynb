{
 "cells": [
  {
   "cell_type": "markdown",
   "id": "ac126833-7f20-4bfd-b992-efabbcf46c78",
   "metadata": {},
   "source": [
    "Q1. Create one variable containing following type of data:\n",
    "(i) string\n",
    "(ii) list\n",
    "(iii) float\n",
    "(iv) tuple"
   ]
  },
  {
   "cell_type": "code",
   "execution_count": 28,
   "id": "bbb690ff-9325-461e-a3ea-398049242901",
   "metadata": {},
   "outputs": [
    {
     "data": {
      "text/plain": [
       "'I am learning Data Science Master 2.0'"
      ]
     },
     "execution_count": 28,
     "metadata": {},
     "output_type": "execute_result"
    }
   ],
   "source": [
    "a = \"I am learning Data Science Master 2.0\"\n",
    "a"
   ]
  },
  {
   "cell_type": "code",
   "execution_count": 29,
   "id": "aff41b4c-a9ea-41a4-86af-1dd44105a8f4",
   "metadata": {},
   "outputs": [
    {
     "data": {
      "text/plain": [
       "[1, 2, 3, 4, 'Data', 'Science', True]"
      ]
     },
     "execution_count": 29,
     "metadata": {},
     "output_type": "execute_result"
    }
   ],
   "source": [
    "b = [1, 2, 3, 4, 'Data', 'Science', True]\n",
    "b"
   ]
  },
  {
   "cell_type": "code",
   "execution_count": 27,
   "id": "938c2e4e-b1ca-4bc5-8f22-2836bac426cd",
   "metadata": {},
   "outputs": [
    {
     "data": {
      "text/plain": [
       "3.14"
      ]
     },
     "execution_count": 27,
     "metadata": {},
     "output_type": "execute_result"
    }
   ],
   "source": [
    "c = 3.14\n",
    "c"
   ]
  },
  {
   "cell_type": "code",
   "execution_count": 31,
   "id": "29b71fb3-6ae6-432c-a061-f62554a554f7",
   "metadata": {},
   "outputs": [
    {
     "data": {
      "text/plain": [
       "('this', 'is', 'my', 'tuple')"
      ]
     },
     "execution_count": 31,
     "metadata": {},
     "output_type": "execute_result"
    }
   ],
   "source": [
    "d = (\"this\", \"is\", \"my\", \"tuple\")\n",
    "d"
   ]
  },
  {
   "cell_type": "raw",
   "id": "8128ba19-1487-4851-9086-94f93c2d6b13",
   "metadata": {},
   "source": []
  },
  {
   "cell_type": "markdown",
   "id": "86a86472-9e6f-4dea-90a1-913afbbcd813",
   "metadata": {},
   "source": [
    "Q2. Given are some following variables containing data:\n",
    "\n",
    "What will be the data type of the above given variable.\n",
    "\n",
    "var1 = ''                      - This is string type.\n",
    "\n",
    "var2 ='[DS, ML, Python]'       - This is string type.\n",
    "\n",
    "var3 = ['DS', 'ML', 'Phython'] - This is list type\n",
    "\n",
    "var4 = 1                       - This is integer type"
   ]
  },
  {
   "cell_type": "code",
   "execution_count": null,
   "id": "800a3b57-221c-436d-9e40-bc63a37384a6",
   "metadata": {},
   "outputs": [],
   "source": []
  },
  {
   "cell_type": "markdown",
   "id": "7673ae87-1b7e-44d9-9d1e-106451e95b01",
   "metadata": {},
   "source": [
    "Q3. Explain the use of the following operators using an example:\n",
    "(i) /\n",
    "(ii) %\n",
    "(iii) //\n",
    "(iv) **"
   ]
  },
  {
   "cell_type": "code",
   "execution_count": 22,
   "id": "57629d64-fcda-40f1-9bed-100ba3ed7824",
   "metadata": {},
   "outputs": [
    {
     "data": {
      "text/plain": [
       "2.2"
      ]
     },
     "execution_count": 22,
     "metadata": {},
     "output_type": "execute_result"
    }
   ],
   "source": [
    " # / - This is for Division. Output is of float type.\n",
    "11/5"
   ]
  },
  {
   "cell_type": "code",
   "execution_count": 23,
   "id": "f0eb514a-ea09-4259-b739-51b53298946f",
   "metadata": {},
   "outputs": [
    {
     "data": {
      "text/plain": [
       "1"
      ]
     },
     "execution_count": 23,
     "metadata": {},
     "output_type": "execute_result"
    }
   ],
   "source": [
    "# % - This is used to ge the reminder after division.\n",
    "10%3"
   ]
  },
  {
   "cell_type": "code",
   "execution_count": 24,
   "id": "fbf7fb00-4b75-4d38-bbe7-36da07794a32",
   "metadata": {},
   "outputs": [
    {
     "data": {
      "text/plain": [
       "13"
      ]
     },
     "execution_count": 24,
     "metadata": {},
     "output_type": "execute_result"
    }
   ],
   "source": [
    "# // - This is used for floor division, which means after division we get integer number.\n",
    "55//4"
   ]
  },
  {
   "cell_type": "code",
   "execution_count": 25,
   "id": "127b8842-2dfd-4f54-b75d-e0053269cc38",
   "metadata": {},
   "outputs": [
    {
     "data": {
      "text/plain": [
       "16"
      ]
     },
     "execution_count": 25,
     "metadata": {},
     "output_type": "execute_result"
    }
   ],
   "source": [
    "# ** - Thiis is used for exponentiation.\n",
    "4**2"
   ]
  },
  {
   "cell_type": "raw",
   "id": "f809665c-4037-4c6b-9d68-7705ea3990ae",
   "metadata": {},
   "source": []
  },
  {
   "cell_type": "markdown",
   "id": "2d26329a-e53b-40e5-94c4-ca570d7a06d8",
   "metadata": {},
   "source": [
    "Q4. Create a list of length 10 of your choice containing multiple types of data. Using for loop print the element and its data type."
   ]
  },
  {
   "cell_type": "code",
   "execution_count": 32,
   "id": "6cbab7b7-5cc9-4650-9f7d-e1081bdea76b",
   "metadata": {},
   "outputs": [
    {
     "name": "stdout",
     "output_type": "stream",
     "text": [
      "MyList is of data type: <class 'str'>\n",
      "goes here is of data type: <class 'str'>\n",
      "11 is of data type: <class 'int'>\n",
      "15 is of data type: <class 'int'>\n",
      "66 is of data type: <class 'int'>\n",
      "False is of data type: <class 'bool'>\n",
      "55 is of data type: <class 'int'>\n",
      "55.75 is of data type: <class 'float'>\n",
      "('My', 'tuple', 'is', 'here') is of data type: <class 'tuple'>\n",
      "30 is of data type: <class 'str'>\n"
     ]
    }
   ],
   "source": [
    "myList = ['MyList', \"goes here\", 11, 15, 66, False, 55, 55.75, ('My', 'tuple', 'is', 'here'), \"30\"]\n",
    "for i in myList:\n",
    "    print(str(i) + ' is of data type: ' + str(type(i)))"
   ]
  },
  {
   "cell_type": "raw",
   "id": "c873e426-ae14-4106-bb12-81f6bcfc3671",
   "metadata": {},
   "source": []
  },
  {
   "cell_type": "markdown",
   "id": "f46179e4-d366-4bbd-8155-379b72accc50",
   "metadata": {},
   "source": [
    "Q5. Using a while loop, verify if the number A is purely divisible by number B and if so then how many times it can be divisible."
   ]
  },
  {
   "cell_type": "code",
   "execution_count": 37,
   "id": "3c6f1c08-a69d-404d-88b0-518e4658074a",
   "metadata": {},
   "outputs": [
    {
     "name": "stdout",
     "output_type": "stream",
     "text": [
      "2\n"
     ]
    }
   ],
   "source": [
    "A = 100\n",
    "B = 2\n",
    "count = 0\n",
    "while A%B == 0 :\n",
    "    count += 1\n",
    "    A = A/B\n",
    "    \n",
    "print(count)"
   ]
  },
  {
   "cell_type": "raw",
   "id": "3b32e1f2-4cdd-496a-a269-da2798a5f6be",
   "metadata": {},
   "source": []
  },
  {
   "cell_type": "markdown",
   "id": "43005ec6-bc22-4392-a0e7-16a3d0062b16",
   "metadata": {},
   "source": [
    "Q6. Create a list containing 25 int type data. Using for loop and if-else condition print if the element is divisible by 3 or not."
   ]
  },
  {
   "cell_type": "code",
   "execution_count": 38,
   "id": "89dc4e66-0d4a-42c5-8333-e39810f09a5c",
   "metadata": {},
   "outputs": [
    {
     "name": "stdout",
     "output_type": "stream",
     "text": [
      "1 is not divisible by 3\n",
      "2 is not divisible by 3\n",
      "3 is divisible by 3\n",
      "4 is not divisible by 3\n",
      "5 is not divisible by 3\n",
      "6 is divisible by 3\n",
      "7 is not divisible by 3\n",
      "8 is not divisible by 3\n",
      "9 is divisible by 3\n",
      "10 is not divisible by 3\n",
      "11 is not divisible by 3\n",
      "12 is divisible by 3\n",
      "13 is not divisible by 3\n",
      "14 is not divisible by 3\n",
      "15 is divisible by 3\n",
      "16 is not divisible by 3\n",
      "17 is not divisible by 3\n",
      "18 is divisible by 3\n",
      "19 is not divisible by 3\n",
      "20 is not divisible by 3\n",
      "21 is divisible by 3\n",
      "22 is not divisible by 3\n",
      "23 is not divisible by 3\n",
      "24 is divisible by 3\n",
      "25 is not divisible by 3\n"
     ]
    }
   ],
   "source": [
    "list = [1, 2, 3, 4, 5, 6, 7, 8, 9, 10, 11, 12, 13, 14, 15, 16, 17, 18, 19, 20, 21, 22, 23, 24, 25]\n",
    "\n",
    "for i in list:\n",
    "    if(i % 3 == 0):\n",
    "        print(str(i) + \" is divisible by 3\")\n",
    "    else:\n",
    "        print(str(i) + \" is not divisible by 3\")"
   ]
  },
  {
   "cell_type": "raw",
   "id": "44eb4842-bfb6-4f60-bd51-e58386b1d4d0",
   "metadata": {},
   "source": []
  },
  {
   "cell_type": "markdown",
   "id": "ea6c1443-5783-4fe6-a837-cd2daccf8017",
   "metadata": {},
   "source": [
    "Q7. What do you understand about mutable and immutable data types? Give examples for both showing\n",
    "this property.\n",
    "\n",
    "For any object if we can replace any single item then that is mutable, like list. For any list we can change nth item from the list.\n",
    "\n",
    "list = [1,2,3,3,5]\n",
    "\n",
    "list[3] = 4;\n",
    "\n",
    "String is immutable. We can get characters from any string but we can not change single character from string."
   ]
  },
  {
   "cell_type": "code",
   "execution_count": null,
   "id": "42297605-4fa1-423e-a904-829e9a7771cc",
   "metadata": {},
   "outputs": [],
   "source": []
  }
 ],
 "metadata": {
  "kernelspec": {
   "display_name": "Python 3 (ipykernel)",
   "language": "python",
   "name": "python3"
  },
  "language_info": {
   "codemirror_mode": {
    "name": "ipython",
    "version": 3
   },
   "file_extension": ".py",
   "mimetype": "text/x-python",
   "name": "python",
   "nbconvert_exporter": "python",
   "pygments_lexer": "ipython3",
   "version": "3.10.8"
  }
 },
 "nbformat": 4,
 "nbformat_minor": 5
}
