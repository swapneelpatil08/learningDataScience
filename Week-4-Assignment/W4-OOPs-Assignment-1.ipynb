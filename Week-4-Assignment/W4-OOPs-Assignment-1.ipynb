{
 "cells": [
  {
   "cell_type": "markdown",
   "id": "96bf3fd1-5de8-4f8a-b186-6c4cbc02aa2b",
   "metadata": {},
   "source": [
    "### Q1. Explain Class and Object with respect to Object-Oriented Programming. Give a suitable example.\n",
    "\n",
    "- Class is blueprint, where we can declare the variables and methods.\n",
    "- Class is very much useful to organise the things.\n",
    "- Object is an instance of the class using which we can access the public variables and methods."
   ]
  },
  {
   "cell_type": "code",
   "execution_count": 15,
   "id": "02827bf5-f6a7-4794-8016-e45c8024036a",
   "metadata": {},
   "outputs": [
    {
     "name": "stdout",
     "output_type": "stream",
     "text": [
      "Neil 30\n"
     ]
    }
   ],
   "source": [
    "class person:\n",
    "    \n",
    "    def set_person_details(self, name, age):\n",
    "        self.name = name\n",
    "        self.age = age\n",
    "        \n",
    "    def get_person_details(self):\n",
    "        print(self.name, self.age)\n",
    "        \n",
    "p1 = person()\n",
    "p1.set_person_details(\"Neil\", 30)\n",
    "p1.get_person_details()"
   ]
  },
  {
   "cell_type": "code",
   "execution_count": null,
   "id": "0c6924f8-b93e-4aef-b187-65d256b2e245",
   "metadata": {},
   "outputs": [],
   "source": []
  },
  {
   "cell_type": "markdown",
   "id": "07bd302a-6278-4fff-afa3-dd1f390cd447",
   "metadata": {},
   "source": [
    "### Q2. Name the four pillars of OOPs.\n",
    "\n",
    "- Abstraction\n",
    "- Encapsulation\n",
    "- Inheritance\n",
    "- Polymorphism"
   ]
  },
  {
   "cell_type": "code",
   "execution_count": null,
   "id": "6b11e474-6649-42cb-a57f-d1d707059c8b",
   "metadata": {},
   "outputs": [],
   "source": []
  },
  {
   "cell_type": "markdown",
   "id": "646fff51-cbe2-4d49-a751-7c9c43c65a60",
   "metadata": {},
   "source": [
    "### Q3. Explain why the __init__() function is used. Give a suitable example.\n",
    "\n",
    "- __init__() is constructor of the class, This is to define how we want to initilise the class.\n",
    "- When we create the function __init__() this function gets called first."
   ]
  },
  {
   "cell_type": "code",
   "execution_count": 16,
   "id": "d42debc2-cd94-4a22-a186-15296bcef7d1",
   "metadata": {},
   "outputs": [
    {
     "name": "stdout",
     "output_type": "stream",
     "text": [
      "Neil 30\n"
     ]
    }
   ],
   "source": [
    "class person:\n",
    "    \n",
    "    def __init__(self, name, age):\n",
    "        self.name = name\n",
    "        self.age = age\n",
    "        \n",
    "    def get_person_details(self):\n",
    "        print(self.name, self.age)\n",
    "        \n",
    "p1 = person(\"Neil\", 30)\n",
    "p1.get_person_details()"
   ]
  },
  {
   "cell_type": "code",
   "execution_count": null,
   "id": "1ceef4f3-c35e-41bb-83f2-25355a9488b7",
   "metadata": {},
   "outputs": [],
   "source": []
  },
  {
   "cell_type": "markdown",
   "id": "673fb8d9-b0f4-4303-b647-3ebcdf11eb4d",
   "metadata": {},
   "source": [
    "### Q4. Why self is used in OOPs?\n",
    "\n",
    "- self is used to refer to instance of the same class.\n",
    "- It doesn't need to to \"self\" keyword. We can define our own name.\n",
    "- This has to be first parameter in the method.\n",
    "- This is used to access the variables from the class."
   ]
  },
  {
   "cell_type": "code",
   "execution_count": null,
   "id": "3fcb6b6d-d247-4fee-ad4b-c5549045baf9",
   "metadata": {},
   "outputs": [],
   "source": []
  },
  {
   "cell_type": "markdown",
   "id": "28e0c9cf-b812-4832-af69-99fd963fd188",
   "metadata": {},
   "source": [
    "### Q5. What is inheritance? Give an example for each type of inheritance.\n",
    "\n",
    "- Inheritance means inheriting the public and protected elements from provided base class by without creating the any object of the base class.\n",
    "- There are 2 types of inheritance \n",
    "    - Single class inheritance\n",
    "    - Multiple class inheritance\n",
    "    - Multilevel class inheritance\n",
    "    - Hybrid class inheritance\n",
    "    - Hierarchical class inheritance"
   ]
  },
  {
   "cell_type": "code",
   "execution_count": 22,
   "id": "809e4772-8e27-4138-a97f-0a184211ea1e",
   "metadata": {},
   "outputs": [
    {
     "name": "stdout",
     "output_type": "stream",
     "text": [
      "Shout out for 'parent_clazz' class\n"
     ]
    }
   ],
   "source": [
    "# Single class inheritance\n",
    "\n",
    "class parent_clazz(grand_parent_clazz):    \n",
    "    def parent_clazz_method(self):\n",
    "        print(\"Shout out for 'parent_clazz' class\")\n",
    "\n",
    "class child_clazz(parent_clazz):\n",
    "    def child_clazz_method(self):\n",
    "        print(\"Shout out for 'child_clazz' class\")\n",
    "\n",
    "child = child_clazz()\n",
    "child.parent_clazz_method()"
   ]
  },
  {
   "cell_type": "code",
   "execution_count": 19,
   "id": "1d63764b-fd8b-4688-aafe-9505121ded6e",
   "metadata": {},
   "outputs": [
    {
     "name": "stdout",
     "output_type": "stream",
     "text": [
      "Shout out for 'father_clazz' class\n",
      "Shout out for 'mother_clazz' class\n"
     ]
    }
   ],
   "source": [
    "# Multiple class inheritance\n",
    "\n",
    "class mother_clazz:\n",
    "    def mother_clazz_method(self):\n",
    "        print(\"Shout out for 'mother_clazz' class\")\n",
    "    \n",
    "class father_clazz:    \n",
    "    def father_clazz_method(self):\n",
    "        print(\"Shout out for 'father_clazz' class\")\n",
    "\n",
    "class child_clazz(mother_clazz, father_clazz):\n",
    "    def child_clazz_method(self):\n",
    "        print(\"Shout out for 'child_clazz' class\")\n",
    "        \n",
    "        \n",
    "obj_child = child_clazz()\n",
    "obj_child.father_clazz_method()\n",
    "obj_child.mother_clazz_method()"
   ]
  },
  {
   "cell_type": "code",
   "execution_count": 20,
   "id": "cd0cd6ee-fe12-4aa5-abb7-b310fafc6fce",
   "metadata": {},
   "outputs": [
    {
     "name": "stdout",
     "output_type": "stream",
     "text": [
      "Shout out for 'grand_parent_clazz' class\n",
      "Shout out for 'parent_clazz' class\n"
     ]
    }
   ],
   "source": [
    "# Multilevel class inheritance\n",
    "\n",
    "class grand_parent_clazz:\n",
    "    def grand_parent_clazz_method(self):\n",
    "        print(\"Shout out for 'grand_parent_clazz' class\")\n",
    "    \n",
    "class parent_clazz(grand_parent_clazz):    \n",
    "    def parent_clazz_method(self):\n",
    "        print(\"Shout out for 'parent_clazz' class\")\n",
    "\n",
    "class child_clazz(parent_clazz):\n",
    "    def child_clazz_method(self):\n",
    "        print(\"Shout out for 'child_clazz' class\")\n",
    "        \n",
    "        \n",
    "obj_child = child_clazz()\n",
    "obj_child.grand_parent_clazz_method()\n",
    "obj_child.parent_clazz_method()"
   ]
  },
  {
   "cell_type": "code",
   "execution_count": 23,
   "id": "f26e2107-b175-4472-9845-c680a841abba",
   "metadata": {},
   "outputs": [],
   "source": [
    "# Hybrid class inheritance\n",
    "\n",
    "class person_clazz:\n",
    "    def person_clazz_method(self):\n",
    "        print(\"Shout out for 'person_clazz' class\")\n",
    "        \n",
    "class comapnay_clazz():\n",
    "    def comapnay_clazz_method(self):\n",
    "        print(\"Shout out for 'comapnay_clazz' class\")   \n",
    "    \n",
    "class parent_clazz(person_clazz):    \n",
    "    def parent_clazz_method(self):\n",
    "        print(\"Shout out for 'parent_clazz' class\")     \n",
    "        \n",
    "class employee_clazz(person_clazz):\n",
    "    def employee_clazz_method(self):\n",
    "        print(\"Shout out for 'employee_clazz' class\")\n",
    "\n",
    "class bachelor_clazz(person_clazz):\n",
    "    def bachelor_clazz_method(self):\n",
    "        print(\"Shout out for 'bachelor_clazz' class\")\n"
   ]
  },
  {
   "cell_type": "code",
   "execution_count": null,
   "id": "54fdad3a-28f0-46e8-8ffb-d6b19d9c1998",
   "metadata": {},
   "outputs": [],
   "source": []
  }
 ],
 "metadata": {
  "kernelspec": {
   "display_name": "Python 3 (ipykernel)",
   "language": "python",
   "name": "python3"
  },
  "language_info": {
   "codemirror_mode": {
    "name": "ipython",
    "version": 3
   },
   "file_extension": ".py",
   "mimetype": "text/x-python",
   "name": "python",
   "nbconvert_exporter": "python",
   "pygments_lexer": "ipython3",
   "version": "3.10.8"
  }
 },
 "nbformat": 4,
 "nbformat_minor": 5
}
