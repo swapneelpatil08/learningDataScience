{
 "cells": [
  {
   "cell_type": "markdown",
   "id": "40fd5ed9-ed07-47ed-b393-c8acc40e996f",
   "metadata": {},
   "source": [
    "### Q1, Create a vehicle class with an init method having instance variables as name_of_vehicle, max_speed and average_of_vehicle.\n"
   ]
  },
  {
   "cell_type": "code",
   "execution_count": 6,
   "id": "3554aace-ebbe-495b-a6c4-dab523ea84cd",
   "metadata": {},
   "outputs": [
    {
     "data": {
      "text/plain": [
       "'Seltos'"
      ]
     },
     "execution_count": 6,
     "metadata": {},
     "output_type": "execute_result"
    }
   ],
   "source": [
    "class vehicle:\n",
    "    def __init__(self, name_of_vehicle, max_speed, average_of_vehicle):\n",
    "        self.name_of_vehicle = name_of_vehicle\n",
    "        self.max_speed = max_speed\n",
    "        self.average_of_vehicle = average_of_vehicle\n",
    "        \n",
    "v = vehicle(\"Seltos\", 200, 15)\n",
    "\n",
    "v.name_of_vehicle"
   ]
  },
  {
   "cell_type": "code",
   "execution_count": null,
   "id": "e7f05d6e-842e-4614-87cc-4ef23a4512c2",
   "metadata": {},
   "outputs": [],
   "source": []
  },
  {
   "cell_type": "markdown",
   "id": "8170c6b9-270d-4752-be70-230b3dfcdb06",
   "metadata": {},
   "source": [
    "### Q2. Create a child class car from the vehicle class created in Que 1, which will inherit the vehicle class.\n",
    "#### Create a method named seating_capacity which takes capacity as an argument and returns the name of the vehicle and its seating capacity."
   ]
  },
  {
   "cell_type": "code",
   "execution_count": 10,
   "id": "09e5e3ee-d984-4ce7-bf00-d3ccc16a6cd8",
   "metadata": {},
   "outputs": [
    {
     "name": "stdout",
     "output_type": "stream",
     "text": [
      "XUV700 5\n"
     ]
    }
   ],
   "source": [
    "class car(vehicle):\n",
    "    def seating_capacity(self, capacity):\n",
    "        self.capacity = capacity\n",
    "        print(self.name_of_vehicle, self.capacity)\n",
    "        \n",
    "mycar = car(\"XUV700\", 210, 18)\n",
    "mycar.seating_capacity(5)"
   ]
  },
  {
   "cell_type": "code",
   "execution_count": null,
   "id": "24ab7211-8e09-4a22-99e5-fd695647989c",
   "metadata": {},
   "outputs": [],
   "source": []
  },
  {
   "cell_type": "markdown",
   "id": "6578bc64-bae1-4f6c-bb34-7264161620f8",
   "metadata": {},
   "source": [
    "### Q3. What is multiple inheritance? Write a python code to demonstrate multiple inheritance."
   ]
  },
  {
   "cell_type": "code",
   "execution_count": 11,
   "id": "b8a46eae-2774-43b7-a045-206653b8777e",
   "metadata": {},
   "outputs": [
    {
     "name": "stdout",
     "output_type": "stream",
     "text": [
      "Shout out for 'grand_parent_clazz' class\n",
      "Shout out for 'parent_clazz' class\n"
     ]
    }
   ],
   "source": [
    "class grand_parent_clazz:\n",
    "    def grand_parent_clazz_method(self):\n",
    "        print(\"Shout out for 'grand_parent_clazz' class\")\n",
    "    \n",
    "class parent_clazz(grand_parent_clazz):    \n",
    "    def parent_clazz_method(self):\n",
    "        print(\"Shout out for 'parent_clazz' class\")\n",
    "\n",
    "class child_clazz(parent_clazz):\n",
    "    def child_clazz_method(self):\n",
    "        print(\"Shout out for 'child_clazz' class\")\n",
    "        \n",
    "        \n",
    "obj_child = child_clazz()\n",
    "obj_child.grand_parent_clazz_method()\n",
    "obj_child.parent_clazz_method()"
   ]
  },
  {
   "cell_type": "code",
   "execution_count": null,
   "id": "bb3cbd88-51a1-49bc-8256-38c14d7b33e9",
   "metadata": {},
   "outputs": [],
   "source": []
  },
  {
   "cell_type": "markdown",
   "id": "00619175-a2c5-4677-9637-d36bd5a8f19e",
   "metadata": {},
   "source": [
    "### Q4. What are getter and setter in python? Create a class and create a getter and a setter method in this class.\n",
    "\n",
    "- Getter and setter are used to provide the ability to access the private members of the class.\n",
    "- Getter is used to get the information of the private member of the class.\n",
    "- Setter is used to set the information of the private member of the class."
   ]
  },
  {
   "cell_type": "code",
   "execution_count": 30,
   "id": "0b8cebb2-270a-466e-ac25-d3f92d07a18b",
   "metadata": {},
   "outputs": [
    {
     "data": {
      "text/plain": [
       "('Tata', 50, 10, 1000)"
      ]
     },
     "execution_count": 30,
     "metadata": {},
     "output_type": "execute_result"
    }
   ],
   "source": [
    "class internet_service_provider:\n",
    "    def __init__(self, service_provider, network_speed, max_data_usage, monthly_price):\n",
    "        self.__service_provider = service_provider\n",
    "        self.__network_speed = network_speed\n",
    "        self.__max_data_usage = max_data_usage\n",
    "        self.__monthly_price = monthly_price\n",
    "        \n",
    "    def get_details(self):\n",
    "        return self.__service_provider, self.__network_speed, self.__max_data_usage, self.__monthly_price\n",
    "    \n",
    "    @property\n",
    "    def network_speed(self):\n",
    "        return self.__network_speed\n",
    "    \n",
    "    @network_speed.setter\n",
    "    def network_speed_set(self, new_speed):\n",
    "        self.__network_speed = new_speed\n",
    "    \n",
    "\n",
    "isp = internet_service_provider(\"Tata\", 50, 10, 1000)\n",
    "isp.get_details()"
   ]
  },
  {
   "cell_type": "code",
   "execution_count": 31,
   "id": "389dcb64-dbfa-460e-9a66-d611fbd1ca49",
   "metadata": {},
   "outputs": [
    {
     "data": {
      "text/plain": [
       "('Tata', 100, 10, 1000)"
      ]
     },
     "execution_count": 31,
     "metadata": {},
     "output_type": "execute_result"
    }
   ],
   "source": [
    "isp.network_speed_set = 100\n",
    "isp.get_details()"
   ]
  },
  {
   "cell_type": "markdown",
   "id": "2ab972bb-a3c4-4d09-9629-cb1018cc32be",
   "metadata": {},
   "source": [
    "### Q5.What is method overriding in python? Write a python code to demonstrate method overriding.\n",
    "\n",
    "- Method Overriding means creating a new method with same name in it's child classes."
   ]
  },
  {
   "cell_type": "code",
   "execution_count": 51,
   "id": "4ddd9c13-3cb5-4639-8476-cf69b62c312e",
   "metadata": {},
   "outputs": [
    {
     "name": "stdout",
     "output_type": "stream",
     "text": [
      "I eat grass\n",
      "I walk and I run\n",
      "I eat animals\n",
      "I walk and I run\n",
      "I roar\n"
     ]
    }
   ],
   "source": [
    "class animal:\n",
    "    def eat(self):\n",
    "        print(\"I eat plants and animals\")\n",
    "    \n",
    "    def walk(self):\n",
    "        print(\"I walk and I run\")\n",
    "    \n",
    "    def talk(self):\n",
    "        pass\n",
    "    \n",
    "    \n",
    "class deer(animal):\n",
    "    def eat(self):\n",
    "        print(\"I eat grass\")\n",
    "        \n",
    "    def talk(self):\n",
    "        print(\"I try to talk\")\n",
    "        \n",
    "class tiger(animal):\n",
    "    def eat(self):\n",
    "        print(\"I eat animals\")\n",
    "        \n",
    "    def talk(self):\n",
    "        print(\"I roar\")\n",
    "\n",
    "        \n",
    "d = deer()\n",
    "d.eat()\n",
    "d.walk()\n",
    "\n",
    "t = tiger()\n",
    "t.eat()\n",
    "t.walk()\n",
    "t.talk()"
   ]
  },
  {
   "cell_type": "code",
   "execution_count": null,
   "id": "8a682697-126e-4310-b8e1-cecb5fe501ea",
   "metadata": {},
   "outputs": [],
   "source": []
  },
  {
   "cell_type": "code",
   "execution_count": null,
   "id": "3fbfe2ab-ffbf-4653-910d-a9f912aa5f4b",
   "metadata": {},
   "outputs": [],
   "source": []
  }
 ],
 "metadata": {
  "kernelspec": {
   "display_name": "Python 3 (ipykernel)",
   "language": "python",
   "name": "python3"
  },
  "language_info": {
   "codemirror_mode": {
    "name": "ipython",
    "version": 3
   },
   "file_extension": ".py",
   "mimetype": "text/x-python",
   "name": "python",
   "nbconvert_exporter": "python",
   "pygments_lexer": "ipython3",
   "version": "3.10.8"
  }
 },
 "nbformat": 4,
 "nbformat_minor": 5
}
