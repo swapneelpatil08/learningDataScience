{
 "cells": [
  {
   "cell_type": "markdown",
   "id": "88b21c33-2eef-4098-90be-08de6347f5ae",
   "metadata": {},
   "source": [
    "#### Q1. How do you comment code in Python? What are the different types of comments?\n",
    "There are 2 types of comments\n",
    "- Inline comments where we can comment each line by adding # in front of the intended line.\n",
    "- Comment few lines or block of code using \"\"\"comment\"\"\"."
   ]
  },
  {
   "cell_type": "markdown",
   "id": "70cbf338-47c8-4e18-a23f-28858aff0a21",
   "metadata": {},
   "source": [
    "#### Q2. What are variables in Python? How do you declare and assign values to variables?\n",
    "\n",
    "- Variables are the containers where value can be stored. When we declare the variable then the memory will be allocated for that data.\n",
    "- Variables can be of any data type - string, integer, boolean, list, set, tuple, etc.\n",
    "- Data type of the variables will be decided at the time of initialization."
   ]
  },
  {
   "cell_type": "markdown",
   "id": "9201b4cb-592a-4230-920e-fde14ddce086",
   "metadata": {},
   "source": [
    "#### Q3. How do you convert one data type to another in Python?\n",
    "- By using syntax - newDataType(data). Lets say we have a tuple a, and we want to convert it into list type.\n",
    "a = ('new', 'data', 'type') \n",
    "b = list[a]"
   ]
  },
  {
   "cell_type": "markdown",
   "id": "a7ceefde-2cab-403c-9275-ac5eee7e3978",
   "metadata": {},
   "source": [
    "#### Q4. How do you write and execute a Python script from the command line?\n",
    "- Open command line. Type python path/to/pytXX.py file"
   ]
  },
  {
   "cell_type": "markdown",
   "id": "fed94ccb-c93f-4b24-92f8-7723878293e4",
   "metadata": {},
   "source": [
    "#### Q5. Given a list my_list = [1, 2, 3, 4, 5], write the code to slice the list and obtain the sub-list [2, 3]."
   ]
  },
  {
   "cell_type": "code",
   "execution_count": 6,
   "id": "76321b1a-0dc0-4924-9ec5-199c5ea1d24e",
   "metadata": {},
   "outputs": [
    {
     "data": {
      "text/plain": [
       "[2, 3]"
      ]
     },
     "execution_count": 6,
     "metadata": {},
     "output_type": "execute_result"
    }
   ],
   "source": [
    "my_list = [1, 2, 3, 4, 5]\n",
    "sub_list = my_list[1:3]\n",
    "sub_list"
   ]
  },
  {
   "cell_type": "markdown",
   "id": "eb40784e-c989-418d-807a-abd3b2d3a8b2",
   "metadata": {},
   "source": [
    "#### Q6. What is a complex number in mathematics, and how is it represented in Python?\n",
    "- Comples numbers are written in a partial real and partial imaginary.\n",
    "- 2+3i - this is a complex number, where 2 is real and 3i is imaginary number.\n",
    "- In python they are written in same way as in maths except here we use j instead of i. E.g: expression = 2+3j."
   ]
  },
  {
   "cell_type": "markdown",
   "id": "4ee3edcb-3e66-4ef4-91e4-4aa939e5f30b",
   "metadata": {},
   "source": [
    "#### Q7. What is the correct way to declare a variable named age and assign the value 25 to it?"
   ]
  },
  {
   "cell_type": "code",
   "execution_count": 12,
   "id": "b0a78844-41ce-424a-8f8f-825fd7668170",
   "metadata": {},
   "outputs": [
    {
     "data": {
      "text/plain": [
       "25"
      ]
     },
     "execution_count": 12,
     "metadata": {},
     "output_type": "execute_result"
    }
   ],
   "source": [
    "age = 25\n",
    "age"
   ]
  },
  {
   "cell_type": "markdown",
   "id": "d805d85c-e34a-48d3-9ccc-94ed9f6721ce",
   "metadata": {},
   "source": [
    "#### Q8. Declare a variable named price and assign the value 9.99 to it. What data type does this variable belong to?\n",
    "- This is of float data type"
   ]
  },
  {
   "cell_type": "code",
   "execution_count": 13,
   "id": "987580dd-4d7e-4736-a3f6-71cabe92fc77",
   "metadata": {},
   "outputs": [
    {
     "data": {
      "text/plain": [
       "float"
      ]
     },
     "execution_count": 13,
     "metadata": {},
     "output_type": "execute_result"
    }
   ],
   "source": [
    "price = 9.99\n",
    "type(price)"
   ]
  },
  {
   "cell_type": "markdown",
   "id": "378f7d68-db97-4468-9484-1a41eee472c3",
   "metadata": {},
   "source": [
    "#### Q9. Create a variable named name and assign your full name to it as a string. How would you print the value of this variable?"
   ]
  },
  {
   "cell_type": "code",
   "execution_count": 18,
   "id": "7037ed97-8f14-4600-b94b-4205d5a9c995",
   "metadata": {},
   "outputs": [
    {
     "name": "stdout",
     "output_type": "stream",
     "text": [
      "Swapneel Patil\n"
     ]
    }
   ],
   "source": [
    "name = \"Swapneel Patil\"\n",
    "print(name)"
   ]
  },
  {
   "cell_type": "markdown",
   "id": "42a89e46-8513-4563-be52-86a1dbe8ca99",
   "metadata": {},
   "source": [
    "#### Q10. Given the string \"Hello, World!\", extract the substring \"World\"."
   ]
  },
  {
   "cell_type": "code",
   "execution_count": 26,
   "id": "96198de4-9c44-41f2-8eb4-a34c87059f36",
   "metadata": {},
   "outputs": [
    {
     "data": {
      "text/plain": [
       "'World'"
      ]
     },
     "execution_count": 26,
     "metadata": {},
     "output_type": "execute_result"
    }
   ],
   "source": [
    "str1 = \"Hello, World\"\n",
    "str1[7:12]"
   ]
  },
  {
   "cell_type": "markdown",
   "id": "5b09f8a8-2f3c-41fe-a99e-561670724531",
   "metadata": {},
   "source": [
    "#### Q11. Create a variable named \"is_student\" and assign it a boolean value indicating whether you are currently a student or not."
   ]
  },
  {
   "cell_type": "code",
   "execution_count": 29,
   "id": "239660c8-af3d-4340-8a10-4ee42be952dd",
   "metadata": {},
   "outputs": [],
   "source": [
    "is_student = True"
   ]
  },
  {
   "cell_type": "code",
   "execution_count": null,
   "id": "91be5236-9cb0-4b4f-8c56-02c043dc97b3",
   "metadata": {},
   "outputs": [],
   "source": []
  }
 ],
 "metadata": {
  "kernelspec": {
   "display_name": "Python 3 (ipykernel)",
   "language": "python",
   "name": "python3"
  },
  "language_info": {
   "codemirror_mode": {
    "name": "ipython",
    "version": 3
   },
   "file_extension": ".py",
   "mimetype": "text/x-python",
   "name": "python",
   "nbconvert_exporter": "python",
   "pygments_lexer": "ipython3",
   "version": "3.10.8"
  }
 },
 "nbformat": 4,
 "nbformat_minor": 5
}
