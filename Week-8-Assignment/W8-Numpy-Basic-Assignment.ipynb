{
 "cells": [
  {
   "cell_type": "markdown",
   "id": "2fe025e4-8344-4e8b-b06e-cc4810fa2b6e",
   "metadata": {},
   "source": [
    "## Assignment Numpy Basic\n",
    "\n",
    "Consider the below code to answer further questions:\n",
    "\n",
    "`import numpy as np`\n",
    "\n",
    "`list_ = [ ‘1’ , ’2’ , ‘3’ , ‘4’ , ‘5’ ]`\n",
    "\n",
    "`array_list = np.array(object = list_)`"
   ]
  },
  {
   "cell_type": "code",
   "execution_count": 18,
   "id": "656fe392-da23-463f-9106-8dce2c719423",
   "metadata": {},
   "outputs": [],
   "source": [
    "import numpy as np\n",
    "\n",
    "list_ = [ '1' , '2' , '3' , '4' , '5' ]\n",
    "\n",
    "array_list = np.array(object = list_)"
   ]
  },
  {
   "cell_type": "markdown",
   "id": "d526bd0f-28c7-472d-a95e-fecd6b74dc17",
   "metadata": {},
   "source": [
    "### Q1. Is there any difference in the data type of variables list_ and array_list? If there is then write a code to print the data types of both the variables.\n",
    "\n",
    "In Python, list may contain the items with different data types, whereas in array holds data of the same data type.\n",
    "In array, insertion and deletion is costly compared to list, as it holds data linearly. However Arrays are faster compared to lists.\n",
    "\n",
    "An array is faster than a list in python since all the elements stored in an array are homogeneous i.e., they have the same data type whereas a list contains heterogeneous elements.\n",
    "\n",
    "Lists are not optimised like arrays, hence it is easy to retrieve the data from the array."
   ]
  },
  {
   "cell_type": "code",
   "execution_count": 19,
   "id": "4a177ab7-d39e-4f4c-8a46-eef8326f9015",
   "metadata": {},
   "outputs": [
    {
     "name": "stdout",
     "output_type": "stream",
     "text": [
      "<class 'list'>\n",
      "1\n",
      "2\n",
      "3\n",
      "['4', '5']\n"
     ]
    }
   ],
   "source": [
    "# List example:\n",
    "list_ = [ '1' , '2' , '3' , '4' , '5' ]\n",
    "print(type(lst))\n",
    "for i in lst:\n",
    "    print(i)"
   ]
  },
  {
   "cell_type": "code",
   "execution_count": 20,
   "id": "fabe2ce0-86e5-4a6b-9666-d3e35e170c7d",
   "metadata": {},
   "outputs": [
    {
     "name": "stdout",
     "output_type": "stream",
     "text": [
      "1\n",
      "2\n",
      "3\n",
      "4\n",
      "5\n"
     ]
    }
   ],
   "source": [
    "for i in array_list:\n",
    "    print(i)"
   ]
  },
  {
   "cell_type": "code",
   "execution_count": null,
   "id": "0752ddaf-2acc-4ebf-803d-130bddd5c7fc",
   "metadata": {},
   "outputs": [],
   "source": []
  },
  {
   "cell_type": "markdown",
   "id": "478b0dc0-b7c8-4e58-adb9-cad9d34cd316",
   "metadata": {},
   "source": [
    "### Q2. Write a code to print the data type of each and every element of both the variables list_ and arra_list."
   ]
  },
  {
   "cell_type": "code",
   "execution_count": 21,
   "id": "04a70bd0-c1b6-4f1b-88f2-2f1db4f4ec54",
   "metadata": {},
   "outputs": [
    {
     "name": "stdout",
     "output_type": "stream",
     "text": [
      "data type of 1 is <class 'str'>\n",
      "data type of 2 is <class 'str'>\n",
      "data type of 3 is <class 'str'>\n",
      "data type of ['4', '5'] is <class 'list'>\n"
     ]
    }
   ],
   "source": [
    "for i in lst:\n",
    "    print(f\"data type of {i} is {type(i)}\")"
   ]
  },
  {
   "cell_type": "code",
   "execution_count": 22,
   "id": "8df15f77-1196-4b48-b154-d682fd801678",
   "metadata": {},
   "outputs": [
    {
     "name": "stdout",
     "output_type": "stream",
     "text": [
      "data type of 1 is <class 'numpy.str_'>\n",
      "data type of 2 is <class 'numpy.str_'>\n",
      "data type of 3 is <class 'numpy.str_'>\n",
      "data type of 4 is <class 'numpy.str_'>\n",
      "data type of 5 is <class 'numpy.str_'>\n"
     ]
    }
   ],
   "source": [
    "for i in array_list:\n",
    "    print(f\"data type of {i} is {type(i)}\")"
   ]
  },
  {
   "cell_type": "code",
   "execution_count": null,
   "id": "0a4f7f35-13d9-49a2-a343-717aba365f3b",
   "metadata": {},
   "outputs": [],
   "source": []
  },
  {
   "cell_type": "markdown",
   "id": "b8e4e78e-442b-4e07-a52a-95e64a169c7d",
   "metadata": {},
   "source": [
    "### Q3. Considering the following changes in the variable, array_list:\n",
    "`array_list = np.array(object = list_, dtype = int)`\n",
    "\n",
    "Will there be any difference in the data type of the elements present in both the variables, list_ and\n",
    "arra_list? If so then print the data types of each and every element present in both the variables, list_\n",
    "and arra_list.\n",
    "\n",
    "Consider the below code to answer further questions:\n",
    "\n",
    "Answer:\n",
    "Yes there is difference between `num_list` and `num_array`. As `num_list` holds items of type `list` where as `num_array` holds items of type `ndarray` which means it is a multi-dimentional array."
   ]
  },
  {
   "cell_type": "code",
   "execution_count": 31,
   "id": "53af0430-a774-43f0-adf1-42afd95fee7e",
   "metadata": {},
   "outputs": [
    {
     "name": "stdout",
     "output_type": "stream",
     "text": [
      "<class 'list'>\n",
      "<class 'list'>\n"
     ]
    }
   ],
   "source": [
    "import numpy as np\n",
    "num_list = [ [ 1 , 2 , 3 ] , [ 4 , 5 , 6 ] ]\n",
    "num_array = np.array(object = num_list)\n",
    "\n",
    "for i in num_list:\n",
    "    print(type(i))"
   ]
  },
  {
   "cell_type": "code",
   "execution_count": 32,
   "id": "6429ce20-2d1a-4fe3-abd2-7cd6f6828a89",
   "metadata": {},
   "outputs": [
    {
     "name": "stdout",
     "output_type": "stream",
     "text": [
      "<class 'numpy.ndarray'>\n",
      "<class 'numpy.ndarray'>\n"
     ]
    }
   ],
   "source": [
    "for i in num_array:\n",
    "    print(type(i))"
   ]
  },
  {
   "cell_type": "code",
   "execution_count": null,
   "id": "7b3d83b1-4f25-435c-afa7-c8ea668faae2",
   "metadata": {},
   "outputs": [],
   "source": []
  },
  {
   "cell_type": "markdown",
   "id": "28d93606-b7b4-4192-aa17-04aae77264be",
   "metadata": {},
   "source": [
    "### Q4. Write a code to find the following characteristics of variable, num_array:\n",
    "##### (i) shape\n",
    "##### (ii) size"
   ]
  },
  {
   "cell_type": "code",
   "execution_count": 35,
   "id": "ffdbccd8-1268-449f-83d5-df72bf1ea375",
   "metadata": {},
   "outputs": [
    {
     "data": {
      "text/plain": [
       "(2, 3)"
      ]
     },
     "execution_count": 35,
     "metadata": {},
     "output_type": "execute_result"
    }
   ],
   "source": [
    "num_array.shape"
   ]
  },
  {
   "cell_type": "code",
   "execution_count": 36,
   "id": "f0afdea3-48eb-413a-a09a-d77679a988e0",
   "metadata": {},
   "outputs": [
    {
     "data": {
      "text/plain": [
       "6"
      ]
     },
     "execution_count": 36,
     "metadata": {},
     "output_type": "execute_result"
    }
   ],
   "source": [
    "num_array.size"
   ]
  },
  {
   "cell_type": "markdown",
   "id": "decc7b45-572c-4224-9a25-9328aa375b9a",
   "metadata": {},
   "source": [
    "### Q5. Write a code to create numpy array of 3*3 matrix containing zeros only, using a numpy array creation function."
   ]
  },
  {
   "cell_type": "code",
   "execution_count": 37,
   "id": "b4a866b4-c0f9-49b5-99c4-9ffa0c2a7938",
   "metadata": {},
   "outputs": [
    {
     "data": {
      "text/plain": [
       "array([[0., 0., 0.],\n",
       "       [0., 0., 0.],\n",
       "       [0., 0., 0.]])"
      ]
     },
     "execution_count": 37,
     "metadata": {},
     "output_type": "execute_result"
    }
   ],
   "source": [
    "np.zeros((3,3))"
   ]
  },
  {
   "cell_type": "code",
   "execution_count": 38,
   "id": "c67d896d-265b-47ce-b57f-eed5cee04426",
   "metadata": {},
   "outputs": [
    {
     "data": {
      "text/plain": [
       "array([[0, 0, 0],\n",
       "       [0, 0, 0],\n",
       "       [0, 0, 0]])"
      ]
     },
     "execution_count": 38,
     "metadata": {},
     "output_type": "execute_result"
    }
   ],
   "source": [
    "np.random.randint(0,1, (3,3))"
   ]
  },
  {
   "cell_type": "markdown",
   "id": "76b1331a-17bb-469b-a1c8-0eb6f23ea56f",
   "metadata": {},
   "source": [
    "### Q6. Create an identity matrix of shape (5,5) using numpy functions?\n",
    "[Hint: An identity matrix is a matrix containing 1 diagonally and other elements will be 0.]"
   ]
  },
  {
   "cell_type": "code",
   "execution_count": 44,
   "id": "b87d12e1-6232-49a9-94e7-20fc8846f159",
   "metadata": {},
   "outputs": [
    {
     "data": {
      "text/plain": [
       "array([[1., 0., 0., 0., 0.],\n",
       "       [0., 1., 0., 0., 0.],\n",
       "       [0., 0., 1., 0., 0.],\n",
       "       [0., 0., 0., 1., 0.],\n",
       "       [0., 0., 0., 0., 1.]])"
      ]
     },
     "execution_count": 44,
     "metadata": {},
     "output_type": "execute_result"
    }
   ],
   "source": [
    "np.eye(5,5)"
   ]
  },
  {
   "cell_type": "code",
   "execution_count": 47,
   "id": "6f229dcd-0a02-4cbf-b88e-f44846b0d5f1",
   "metadata": {},
   "outputs": [
    {
     "data": {
      "text/plain": [
       "array([[1, 0, 0, 0, 0],\n",
       "       [0, 1, 0, 0, 0],\n",
       "       [0, 0, 1, 0, 0],\n",
       "       [0, 0, 0, 1, 0],\n",
       "       [0, 0, 0, 0, 1]])"
      ]
     },
     "execution_count": 47,
     "metadata": {},
     "output_type": "execute_result"
    }
   ],
   "source": [
    "np.diag([1,1,1,1,1])"
   ]
  },
  {
   "cell_type": "code",
   "execution_count": null,
   "id": "1d2099a5-b17e-485b-b99e-385b5c87eec0",
   "metadata": {},
   "outputs": [],
   "source": []
  }
 ],
 "metadata": {
  "kernelspec": {
   "display_name": "Python 3 (ipykernel)",
   "language": "python",
   "name": "python3"
  },
  "language_info": {
   "codemirror_mode": {
    "name": "ipython",
    "version": 3
   },
   "file_extension": ".py",
   "mimetype": "text/x-python",
   "name": "python",
   "nbconvert_exporter": "python",
   "pygments_lexer": "ipython3",
   "version": "3.10.8"
  }
 },
 "nbformat": 4,
 "nbformat_minor": 5
}
