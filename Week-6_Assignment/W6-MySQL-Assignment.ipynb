{
 "cells": [
  {
   "cell_type": "markdown",
   "id": "e267b87b-4ea0-4ad7-9abd-34b3675e75e0",
   "metadata": {},
   "source": [
    "### Q1. What is a database? Differentiate between SQL and NoSQL databases.\n",
    "\n",
    "Database is a storage, where we can store our data related to our application. Which can be used in application. It can be manupulated when required.\n",
    "| SQL  |  NOSQL |\n",
    "| :--: | :-----:|\n",
    "| It is structured query language | It is not only structured query language |\n",
    "| It is Relational Database managent server | It is a non-Relational Database managent server |\n",
    "| Data is stored as Key-value pair | Data is stored as a document |\n"
   ]
  },
  {
   "cell_type": "markdown",
   "id": "9fea63af-c575-4d47-a628-b4cea9d9b444",
   "metadata": {},
   "source": [
    "### Q2. What is DDL? Explain why CREATE, DROP, ALTER, and TRUNCATE are used with an example.\n",
    "\n",
    "DDL is Data definition language. This is very realadble langauge which in simple english which is understood by computer. Is it used to define the structure of the data base like Schecma, Table and Indexes. DDL is subset of the SQL.\n",
    "- Create: This is used to create new table in the database.  Syntax: CREATE TABLE table_name (column_definitions)\n",
    "- Drop: This is used to delete the table, indexes or columns. Once deleted it can't be reversed. DROP TABLE table_name.\n",
    "- Alter: This is used to make amendments in existing tables. Like adding new columns, changing data type of the column. Syntax: ALTER OBJECT_TYPE OBJECT_NAME paramters\n",
    "- Truncate: This is used to delete data from the table. It delete only data, not the table structure."
   ]
  },
  {
   "cell_type": "code",
   "execution_count": null,
   "id": "a29b09d8-e1c7-448a-a41d-a94f656cfda0",
   "metadata": {},
   "outputs": [],
   "source": []
  },
  {
   "cell_type": "markdown",
   "id": "eff05da5-77c8-4e73-8787-d442a56ec71a",
   "metadata": {},
   "source": [
    "### Q3. What is DML? Explain INSERT, UPDATE, and DELETE with an example.\n",
    "\n",
    "DML means Data manupulation Language. Which is used to perform action like adding new entries in the table, modifying and deleting exisiting data from table. This is very realadble langauge which in simple english which is understood by computer.\n",
    "- INSERT - This is used for addition of new record/s in table. Syntax: INSERT INTO TABLE_NAME [COLUMN] [VALUES]\n",
    "- UPDATE - This is used to update the the existing record/s from table. Syntax: UPDATE table_name SET [COLUMN_NAME] = [VALUE] WHERE [condition meets]\n",
    "- DELETE - This is used to delete the existing data from the table Syntax: DELETE FROM table_name WHERE [condition meets]"
   ]
  },
  {
   "cell_type": "code",
   "execution_count": null,
   "id": "d4df7f7a-17a8-426f-8abe-93aa455a8ca7",
   "metadata": {},
   "outputs": [],
   "source": []
  },
  {
   "cell_type": "markdown",
   "id": "eb52b801-de78-4c7f-8e74-9209f0f08980",
   "metadata": {},
   "source": [
    "### Q4. What is DQL? Explain SELECT with an example.\n",
    "\n",
    "DQL means data query language. DQL is used to select or query the data from the given data table.\n",
    "SELECT statement is used to select or read the data from the table. We can select the data with condition. We can choose which column do we specifically need.\n",
    "Syntax: SELECT * FROM table_name; "
   ]
  },
  {
   "cell_type": "code",
   "execution_count": null,
   "id": "fb936055-2893-476f-b1d1-350813ebd4a0",
   "metadata": {},
   "outputs": [],
   "source": []
  },
  {
   "cell_type": "markdown",
   "id": "0c625905-fb8f-4bff-b5ab-05fa09c3c41b",
   "metadata": {},
   "source": [
    "### Q5. Explain Primary Key and Foreign Key.\n",
    "\n",
    "A primary key is a column (or set of columns) in a table that uniquely identifies each row in the table. It cannot contain null values and must be unique across all rows in the table. Only one primary key is allowed in a table.\n",
    "\n",
    "A primary key is basically a combination of the 'UNIQUE' and 'Not Null' constraints. Thus, it cannot be a NULL value. Another important point to be noted about primary key is that its value cannot be deleted from the parent table."
   ]
  },
  {
   "cell_type": "code",
   "execution_count": null,
   "id": "cce1e102-f114-4226-95f9-90e8935a6b7a",
   "metadata": {},
   "outputs": [],
   "source": []
  },
  {
   "cell_type": "markdown",
   "id": "fdce3edc-dc10-4fa1-a453-1bee156aaea1",
   "metadata": {},
   "source": [
    "### Q6. Write a python code to connect MySQL to python. Explain the cursor() and execute() method.\n",
    "\n",
    "mydb = mysql.connector.connect(\n",
    "  host=\"url\",\n",
    "  user=\"abc\",\n",
    "  password=\"abc\"\n",
    ")\n",
    "\n",
    "cursor() - This is the object using which will allow us to communicate with Database and query our queries against database. It's a middleware between Python and SQL.\n",
    "\n",
    "execute() - This is used to execute the query and return the response from db. \n"
   ]
  },
  {
   "cell_type": "markdown",
   "id": "4c6ae03e-92c9-4dcf-b044-2a7d5fa97526",
   "metadata": {},
   "source": [
    "### Q7. Give the order of execution of SQL clauses in an SQL query.\n",
    "\n",
    "| Sr. No | Clause | Function |\n",
    "| :-----:| :-----:| :-------:|\n",
    "| 1 | from | Chooses the table and joins the data to get the base data |  \n",
    "| 2 | where | Filters the base data |\n",
    "| 3 | group by | Aggregates the base data |\n",
    "| 4 | having | Filters aggregated data |\n",
    "| 5 | select | Returns the filtered data |\n",
    "| 6 | order by | Sorts the returned data |\n",
    "| 7 | limit | Select only limited data rows |"
   ]
  },
  {
   "cell_type": "code",
   "execution_count": null,
   "id": "f0ad0de5-5c69-4151-981a-55be55324cac",
   "metadata": {},
   "outputs": [],
   "source": []
  }
 ],
 "metadata": {
  "kernelspec": {
   "display_name": "Python 3 (ipykernel)",
   "language": "python",
   "name": "python3"
  },
  "language_info": {
   "codemirror_mode": {
    "name": "ipython",
    "version": 3
   },
   "file_extension": ".py",
   "mimetype": "text/x-python",
   "name": "python",
   "nbconvert_exporter": "python",
   "pygments_lexer": "ipython3",
   "version": "3.10.8"
  }
 },
 "nbformat": 4,
 "nbformat_minor": 5
}
