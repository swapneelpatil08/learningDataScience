{
 "cells": [
  {
   "cell_type": "code",
   "execution_count": null,
   "id": "2fb3e76f-9853-464a-9941-b6aaa7f02f9c",
   "metadata": {},
   "outputs": [],
   "source": [
    "### Q1. What is Flask Framework? What are the advantages of Flask Framework?\n",
    "### Q2. Create a simple Flask application to display ‘Hello World!!’. Attach the screenshot of the output in Jupyter Notebook.\n",
    "### Q3. What is App routing in Flask? Why do we use app routes?\n",
    "### Q4. Create a “/welcome” route to display the welcome message “Welcome to ABC Corporation” and a “/” route to show the following details:\n",
    "Company Name: ABC Corporation\n",
    "Location: India\n",
    "Contact Detail: 999-999-9999\n",
    "Attach the screenshot of the output in Jupyter Notebook.\n",
    "### Q5. What function is used in Flask for URL Building? Write a Python code to demonstrate the working of the url_for() function."
   ]
  },
  {
   "cell_type": "markdown",
   "id": "c6423732-87be-4223-bb4f-c6e3dac287f8",
   "metadata": {},
   "source": [
    "### Q1. What is Flask Framework? What are the advantages of Flask Framework?\n",
    "\n",
    "Flask is a web development framework for python. It's a light weight framework which is easy and comptiable to develope frameworks fast.\n",
    "- Advantages:\n",
    "    - Light weiight.\n",
    "    - Faster development\n",
    "    - Suitable for the small application.\n",
    "    - Offers in-build development server and fast debugger.\n",
    "    - Secure cookies."
   ]
  },
  {
   "cell_type": "code",
   "execution_count": null,
   "id": "6ea9f7ae-d001-41b0-b759-536f8a459d07",
   "metadata": {},
   "outputs": [],
   "source": []
  },
  {
   "cell_type": "markdown",
   "id": "40cd4aed-806f-4899-a3b5-180a55dce1c6",
   "metadata": {},
   "source": [
    "### Q2. Create a simple Flask application to display ‘Hello World!!’. Attach the screenshot of the output in Jupyter Notebook.\n",
    "![Hello World Screenshot](https://ibb.co/27R46xw)"
   ]
  },
  {
   "cell_type": "code",
   "execution_count": null,
   "id": "a52d7b66-0f60-4de5-a1c2-ea7d4f6d2bb5",
   "metadata": {},
   "outputs": [],
   "source": []
  },
  {
   "cell_type": "markdown",
   "id": "c5216b39-d8f4-4c28-a57f-e070ec9ac65d",
   "metadata": {},
   "source": [
    "### Q3. What is App routing in Flask? Why do we use app routes?\n",
    "\n",
    "App routing the address of the page that should be displayed when navigate to that page. When we perform any action then we want to show some new content then we will have to route the user to new page for that we use Route."
   ]
  },
  {
   "cell_type": "code",
   "execution_count": null,
   "id": "3ff0d68d-3b72-40f8-9518-559472def20a",
   "metadata": {},
   "outputs": [],
   "source": []
  },
  {
   "cell_type": "markdown",
   "id": "4bdfc459-ae0a-40a8-8525-688881eecba0",
   "metadata": {},
   "source": [
    "### Q4. Create a “/welcome” route to display the welcome message “Welcome to ABC Corporation” and a “/” route to show the following details:\n",
    "\n",
    "![Hello World Screenshot](https://ibb.co/9cyG8DV)\n"
   ]
  },
  {
   "cell_type": "code",
   "execution_count": null,
   "id": "100eb256-186e-47ec-93ab-6660ca8629e1",
   "metadata": {},
   "outputs": [],
   "source": []
  }
 ],
 "metadata": {
  "kernelspec": {
   "display_name": "Python 3 (ipykernel)",
   "language": "python",
   "name": "python3"
  },
  "language_info": {
   "codemirror_mode": {
    "name": "ipython",
    "version": 3
   },
   "file_extension": ".py",
   "mimetype": "text/x-python",
   "name": "python",
   "nbconvert_exporter": "python",
   "pygments_lexer": "ipython3",
   "version": "3.10.8"
  }
 },
 "nbformat": 4,
 "nbformat_minor": 5
}
