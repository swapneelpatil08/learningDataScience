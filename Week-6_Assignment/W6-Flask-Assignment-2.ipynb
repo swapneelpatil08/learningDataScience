{
 "cells": [
  {
   "cell_type": "code",
   "execution_count": 1,
   "id": "6cb33ad0-06ae-452e-adf5-5b72d14993c6",
   "metadata": {},
   "outputs": [],
   "source": [
    "### Q1. Explain GET and POST methods.\n",
    "### Q2. Why is request used in Flask?\n",
    "### Q3. Why is redirect() used in Flask?\n",
    "### Q4. What are templates in Flask? Why is the render_template() function used?\n",
    "### Q5. Create a simple API. Use Postman to test it. Attach the screenshot of the output in the Jupyter Notebook."
   ]
  },
  {
   "cell_type": "markdown",
   "id": "72e452a9-0aa5-44b8-b34e-e135e36225ae",
   "metadata": {},
   "source": [
    "### Q1. Explain GET and POST methods.\n",
    "\n",
    "Get - This is used to get the details from provided resource. For this we need an URL from which we will the return as response. This can have parameters in it, but no body.\n",
    "POST - This is used to create a new record. With post request we need to send data. This data can be in Json or XML format based on the architecture style."
   ]
  },
  {
   "cell_type": "code",
   "execution_count": null,
   "id": "4c78b137-dbc3-400f-a9eb-3e908ba1ac58",
   "metadata": {},
   "outputs": [],
   "source": []
  },
  {
   "cell_type": "markdown",
   "id": "0d5d43cb-6e26-47b8-a2cf-1f4b42cd10bb",
   "metadata": {},
   "source": [
    "### Q2. Why is request used in Flask?\n",
    "\n",
    "Request is used as Request context in Flask. Request context hold the information from that particular request. Which can be used in further action."
   ]
  },
  {
   "cell_type": "code",
   "execution_count": null,
   "id": "ad0ec9b1-2599-46ae-b434-e24baeba30b5",
   "metadata": {},
   "outputs": [],
   "source": []
  },
  {
   "cell_type": "markdown",
   "id": "d85b878f-7dce-4b30-a131-3a2c060f008f",
   "metadata": {},
   "source": [
    "### Q3. Why is redirect() used in Flask?\n",
    "\n",
    "The Flask class has a redirect() function. When invoked, it returns a response object and redirects the user to another target location with the specified status code.\n",
    "\n",
    "Sometimes you need to redirect an URL, like when the url is no longer available or the user is not logged in. The redirect function lets you do that in Flask."
   ]
  },
  {
   "cell_type": "code",
   "execution_count": null,
   "id": "b96b1d7d-4b2a-43a1-bd8f-63bcf0bfcd63",
   "metadata": {},
   "outputs": [],
   "source": []
  },
  {
   "cell_type": "markdown",
   "id": "0ab2cd54-2fa4-455a-8dac-418ce39a9992",
   "metadata": {},
   "source": [
    "### Q4. What are templates in Flask? Why is the render_template() function used?\n",
    "\n",
    "Templates used to build the webpages UI, which can be places seperately rather than mixing it with business logic. So Business and presentation logic segregated. Also, it helps to reuse the views.\n",
    "\n",
    "These templates can be returned from the business logic using render_template() function. Using this function we can also pass the values or the data that we want to show in that view."
   ]
  },
  {
   "cell_type": "code",
   "execution_count": null,
   "id": "dc1ee078-37b7-4bd5-bd14-088f17da8c16",
   "metadata": {},
   "outputs": [],
   "source": []
  },
  {
   "cell_type": "markdown",
   "id": "fa8e426f-4f41-4485-b0dd-e130bbcb8251",
   "metadata": {},
   "source": [
    "### Q5. Create a simple API. Use Postman to test it. Attach the screenshot of the output in the Jupyter Notebook.\n",
    "![Flask-2 Screenshot](https://ibb.co/YR118Q0)"
   ]
  },
  {
   "cell_type": "code",
   "execution_count": null,
   "id": "531128a4-33a1-4fad-93ee-584bba87bc71",
   "metadata": {},
   "outputs": [],
   "source": []
  }
 ],
 "metadata": {
  "kernelspec": {
   "display_name": "Python 3 (ipykernel)",
   "language": "python",
   "name": "python3"
  },
  "language_info": {
   "codemirror_mode": {
    "name": "ipython",
    "version": 3
   },
   "file_extension": ".py",
   "mimetype": "text/x-python",
   "name": "python",
   "nbconvert_exporter": "python",
   "pygments_lexer": "ipython3",
   "version": "3.10.8"
  }
 },
 "nbformat": 4,
 "nbformat_minor": 5
}
