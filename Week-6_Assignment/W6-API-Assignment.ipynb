{
 "cells": [
  {
   "cell_type": "markdown",
   "id": "f1a92e64-5288-42eb-8edc-ea6361ef84e3",
   "metadata": {},
   "source": [
    "### API assignment"
   ]
  },
  {
   "cell_type": "markdown",
   "id": "1ffbac97-655d-4100-ab31-20cdf8d9cde3",
   "metadata": {},
   "source": [
    "### Q1. What is an API? Give an example, where an API is used in real life.\n",
    "\n",
    "API is an application programming interface. Which is neutral ground for the systems to talk to each other. This doesn't need that both system should be written in same language.\n",
    "\n",
    "All the web applications use the API these days to communicate between each other. Frontend to backend. One system's backend to another.\n"
   ]
  },
  {
   "cell_type": "code",
   "execution_count": null,
   "id": "97f087e6-5d24-41f7-b8ad-114fda1ca6ca",
   "metadata": {},
   "outputs": [],
   "source": []
  },
  {
   "cell_type": "markdown",
   "id": "0f773d7e-4648-441d-847a-5d71e0b09bff",
   "metadata": {},
   "source": [
    "### Q2. Give advantages and disadvantages of using API.\n",
    "\n",
    "Advantages:\n",
    "    - Improved interoperability\n",
    "    - Scalable.\n",
    "    - Simple to integrate\n",
    "    - Increased efficiency.\n",
    "    \n",
    "Disadvantages:\n",
    "    - Security.\n",
    "    - Complexity.\n",
    "    - Compatibility Issues."
   ]
  },
  {
   "cell_type": "code",
   "execution_count": null,
   "id": "29f00b5e-0d3b-48b8-97a5-0c8f1eb17785",
   "metadata": {},
   "outputs": [],
   "source": []
  },
  {
   "cell_type": "markdown",
   "id": "2efa7496-1acc-4b80-835c-f873d7e649e7",
   "metadata": {},
   "source": [
    "### Q4. Explain REST and SOAP Architecture. Mention shortcomings of SOAP.\n",
    "\n",
    "Rest stands REpresentational State Transfer architectuaral style. Where it uses communication over HTTP/s protocol. It uses JSON and XML format to transfer data.\n",
    "SOAP stands for Simple Object Access Protocol. This uses massaging standards defined by WWW. It uses XML data format to transfer the data."
   ]
  },
  {
   "cell_type": "code",
   "execution_count": null,
   "id": "f793e1e4-ba36-4b64-94fd-6a37b2dccc5e",
   "metadata": {},
   "outputs": [],
   "source": []
  },
  {
   "cell_type": "markdown",
   "id": "ddefb4fa-b968-4330-bba2-ace632f6329f",
   "metadata": {},
   "source": [
    "### Q5. Differentiate between REST and SOAP.\n",
    "\n",
    "| REST API | SOAP API |\n",
    "|:--------:|:---------|\n",
    "| It stands for REpresentational State Transfer | It stands for Simple Object Access Protocol |\n",
    "| It uses JSON and XML | It uses only XML |\n",
    "| It uses the best practices that system architect can define. | It is bound to have srtict standard protocol backed by W3C |\n",
    "| It is build around resourse based | It is build around remote procedures |\n"
   ]
  },
  {
   "cell_type": "code",
   "execution_count": null,
   "id": "5ebab786-d532-4b58-b954-4f5a71b61b59",
   "metadata": {},
   "outputs": [],
   "source": []
  }
 ],
 "metadata": {
  "kernelspec": {
   "display_name": "Python 3 (ipykernel)",
   "language": "python",
   "name": "python3"
  },
  "language_info": {
   "codemirror_mode": {
    "name": "ipython",
    "version": 3
   },
   "file_extension": ".py",
   "mimetype": "text/x-python",
   "name": "python",
   "nbconvert_exporter": "python",
   "pygments_lexer": "ipython3",
   "version": "3.10.8"
  }
 },
 "nbformat": 4,
 "nbformat_minor": 5
}
