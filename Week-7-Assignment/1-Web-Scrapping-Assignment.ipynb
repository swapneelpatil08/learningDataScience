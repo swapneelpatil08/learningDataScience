{
 "cells": [
  {
   "cell_type": "markdown",
   "id": "4615634b-1974-42bd-bff0-604446d2abb1",
   "metadata": {},
   "source": [
    "- Q1. What is Web Scraping? Why is it Used? Give three areas where Web Scraping is used to get data.\n",
    "- Q2. What are the different methods used for Web Scraping?\n",
    "- Q3. What is Beautiful Soup? Why is it used?\n",
    "- Q4. Why is flask used in this Web Scraping project?\n",
    "- Q5. Write the names of AWS services used in this project. Also, explain the use of each service."
   ]
  },
  {
   "cell_type": "markdown",
   "id": "e9a5bd48-3e7d-4bc8-8594-be413e56b73f",
   "metadata": {},
   "source": [
    "### Q1. What is Web Scraping? Why is it Used? Give three areas where Web Scraping is used to get data.\n",
    "\n",
    "Web scrapping is a method to collect the data from the websites. In this process we go to the website and scan multiple things related to information which we need using the tags and html attributes. \n",
    "\n",
    "This is helpful to get the data. This data will be then useful to the companies to get the information about their products and utilize it to make it better. \n",
    "\n",
    "Web scrapping is used in below areas:\n",
    "- eCommerce\n",
    "- Research\n",
    "- Banking\n",
    "- Social media"
   ]
  },
  {
   "cell_type": "code",
   "execution_count": null,
   "id": "a8cb3164-65d4-4dbe-a6e3-ef2f08facde6",
   "metadata": {},
   "outputs": [],
   "source": []
  },
  {
   "cell_type": "markdown",
   "id": "b93dc3ae-c125-4272-9296-b2da600599bc",
   "metadata": {},
   "source": [
    "### - Q2. What are the different methods used for Web Scraping?\n",
    "\n",
    "- Self-built or Pre-built \n",
    "- Browser extension or Software Web Scrapers,\n",
    "- Cloud or Local Web Scrapers."
   ]
  },
  {
   "cell_type": "code",
   "execution_count": null,
   "id": "da319cff-2631-4094-aff6-f5c224d25167",
   "metadata": {},
   "outputs": [],
   "source": []
  },
  {
   "cell_type": "markdown",
   "id": "d036aace-6e8d-4a51-a3fa-52db7565dab8",
   "metadata": {},
   "source": [
    "### - Q3. What is Beautiful Soup? Why is it used?\n",
    "\n",
    "Beautiful Soup is a python library, used to in web scrapping. This helps in beautifying the responses by parsing the HTML and XML content.\n",
    "\n",
    "This is helps in extracting data, Filtering values and Navigating data. "
   ]
  },
  {
   "cell_type": "code",
   "execution_count": null,
   "id": "9d1c439a-f545-434c-b8fa-62ea2879979d",
   "metadata": {},
   "outputs": [],
   "source": []
  },
  {
   "cell_type": "markdown",
   "id": "6efe9a0c-0a4c-4ce6-bdb4-42885ffc9819",
   "metadata": {},
   "source": [
    "### - Q4. Why is flask used in this Web Scraping project?\n",
    "\n",
    "Flask is a lightweight framework to build websites. This is used to parse the collected data and display it as HTML view.\n",
    "\n",
    "This also helps in extracting data using request, response and Beautoful Soap."
   ]
  },
  {
   "cell_type": "code",
   "execution_count": null,
   "id": "cc2e56b0-46f2-4e11-a3cb-cb93a6bc73cd",
   "metadata": {},
   "outputs": [],
   "source": []
  },
  {
   "cell_type": "markdown",
   "id": "a0dd6a94-4d40-41a0-a5d3-fe59c04948ce",
   "metadata": {},
   "source": [
    "### - Q5. Write the names of AWS services used in this project. Also, explain the use of each service.\n",
    "\n",
    "We used below 2 AWS services - \n",
    "- Elastic Beanstalk - This is used to build the application and run it against the URL.\n",
    "- Pipeline - This is used to get the development code and deploy it on the application build using Elastic Beanstalk."
   ]
  },
  {
   "cell_type": "code",
   "execution_count": null,
   "id": "49a87566-b926-436e-811c-cdd56826dfeb",
   "metadata": {},
   "outputs": [],
   "source": []
  }
 ],
 "metadata": {
  "kernelspec": {
   "display_name": "Python 3 (ipykernel)",
   "language": "python",
   "name": "python3"
  },
  "language_info": {
   "codemirror_mode": {
    "name": "ipython",
    "version": 3
   },
   "file_extension": ".py",
   "mimetype": "text/x-python",
   "name": "python",
   "nbconvert_exporter": "python",
   "pygments_lexer": "ipython3",
   "version": "3.10.8"
  }
 },
 "nbformat": 4,
 "nbformat_minor": 5
}
