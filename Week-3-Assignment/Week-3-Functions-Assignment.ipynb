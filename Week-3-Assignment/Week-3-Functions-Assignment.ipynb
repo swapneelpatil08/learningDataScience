{
 "cells": [
  {
   "cell_type": "markdown",
   "id": "89649176-05af-4a70-9cc6-93c2633a6a7f",
   "metadata": {},
   "source": [
    "#### Q1. Which keyword is used to create a function? Create a function to return a list of odd numbers in the range of 1 to 25.\n",
    "\n",
    "- def keyword is used to craete a function."
   ]
  },
  {
   "cell_type": "code",
   "execution_count": 1,
   "id": "51b8a34e-1676-40cb-ac4a-d19643e4b50d",
   "metadata": {},
   "outputs": [
    {
     "data": {
      "text/plain": [
       "[1, 3, 5, 7, 9, 11, 13, 15, 17, 19, 21, 23]"
      ]
     },
     "execution_count": 1,
     "metadata": {},
     "output_type": "execute_result"
    }
   ],
   "source": [
    "def getOddNumbers(n):\n",
    "    odd_numbers = []\n",
    "    for i in range(n):\n",
    "        if i%2 != 0:\n",
    "            odd_numbers.append(i)\n",
    "            \n",
    "    return odd_numbers\n",
    "\n",
    "getOddNumbers(25)"
   ]
  },
  {
   "cell_type": "code",
   "execution_count": null,
   "id": "7de47514-3af5-4125-9d0c-ebb7b4dc4acd",
   "metadata": {},
   "outputs": [],
   "source": []
  },
  {
   "cell_type": "markdown",
   "id": "40d82633-7bfa-4b87-aceb-7f0fc29b72c7",
   "metadata": {},
   "source": [
    "#### Q2. Why *args and **kwargs is used in some functions? Create a function each for *args and **kwargs to demonstrate their use.\n",
    "\n",
    "- They are used to pass the parameters in the function, when exact numbers of the params are unknown.\n",
    "- *args is used to pass the multiple parameters to the function.\n",
    "- **kwargs is used to pass the key value pair (dictionary) as parameter to the function."
   ]
  },
  {
   "cell_type": "code",
   "execution_count": 4,
   "id": "9593e927-0865-4b74-b9e8-fc1b9366edbe",
   "metadata": {},
   "outputs": [
    {
     "data": {
      "text/plain": [
       "['0b100', '0b1111', '0b1001', '0b11010', '0b101000']"
      ]
     },
     "execution_count": 4,
     "metadata": {},
     "output_type": "execute_result"
    }
   ],
   "source": [
    "## Convert a decimal number into binary\n",
    "\n",
    "def getBinaryNumbers(*args):\n",
    "    bin_numbers = []\n",
    "    for i in args:\n",
    "        bin_numbers.append(bin(i))\n",
    "    return bin_numbers\n",
    "\n",
    "getBinaryNumbers(4,15,9,26,40)"
   ]
  },
  {
   "cell_type": "code",
   "execution_count": 18,
   "id": "486e9520-900f-4833-8a32-58268595c038",
   "metadata": {},
   "outputs": [
    {
     "name": "stdout",
     "output_type": "stream",
     "text": [
      "A has passed in the exam\n",
      "B has passed in the exam\n",
      "C has passed in the exam\n",
      "D has passed in the exam\n",
      "E has failed in the exam\n"
     ]
    }
   ],
   "source": [
    "## Determine if the student is passed or failed in exam. Passing criteria is Student should have at least 35%.\n",
    "\n",
    "def determineResult(**kwargs):\n",
    "    for i in kwargs:\n",
    "        if kwargs[i] >35 :\n",
    "            print(f'{i} has passed in the exam')\n",
    "        else:\n",
    "            print(f'{i} has failed in the exam')\n",
    "            \n",
    "determineResult(A= 79, B=60, C= 55, D= 90, E=34)"
   ]
  },
  {
   "cell_type": "code",
   "execution_count": null,
   "id": "43bb0a01-f507-4bec-9937-cef6eb2ffa0e",
   "metadata": {},
   "outputs": [],
   "source": []
  },
  {
   "cell_type": "markdown",
   "id": "06be5cee-88a2-448e-990e-921f75d265e5",
   "metadata": {},
   "source": [
    "#### Q3. What is an iterator in python? Name the method used to initialise the iterator object and the method used for iteration. Use these methods to print the first five elements of the given list [2, 4, 6, 8, 10, 12, 14, 16,18, 20].\n",
    "\n",
    "- Iterator is something which will traverse through all the elements but one by one in given list or range."
   ]
  },
  {
   "cell_type": "code",
   "execution_count": 22,
   "id": "aef2faca-cdbf-4237-bec6-1d1da2fca693",
   "metadata": {},
   "outputs": [
    {
     "name": "stdout",
     "output_type": "stream",
     "text": [
      "2\n",
      "4\n",
      "6\n",
      "8\n",
      "10\n"
     ]
    }
   ],
   "source": [
    "lst = [2, 4, 6, 8, 10, 12, 14, 16,18, 20]\n",
    "\n",
    "def iteratorFun(l):\n",
    "    itNum = 0\n",
    "    for i in l:\n",
    "        if itNum < 5:\n",
    "            print(l[itNum])\n",
    "            itNum +=1\n",
    "            \n",
    "iteratorFun(lst)"
   ]
  },
  {
   "cell_type": "code",
   "execution_count": null,
   "id": "67db782f-b1bf-4972-8ee2-37458f2ac777",
   "metadata": {},
   "outputs": [],
   "source": []
  },
  {
   "cell_type": "markdown",
   "id": "e889c6ee-2a9a-428c-a3e3-702aebbf1a80",
   "metadata": {},
   "source": [
    "#### Q4. What is a generator function in python? Why yield keyword is used? Give an example of a generator function.\n",
    "\n",
    "- Function which generates data in run time, rather than blocking memory for the data. It just recalls which data is used and on next iteraton this will directly generate new data from range."
   ]
  },
  {
   "cell_type": "code",
   "execution_count": 26,
   "id": "f6fd2957-ae78-4866-9295-bf0257f8ee95",
   "metadata": {},
   "outputs": [
    {
     "name": "stdout",
     "output_type": "stream",
     "text": [
      "0\n",
      "1\n",
      "4\n",
      "9\n",
      "16\n"
     ]
    }
   ],
   "source": [
    "def calculateSquare(n):\n",
    "    for i in range(n):\n",
    "        print(i**2)\n",
    "calculateSquare(5)"
   ]
  },
  {
   "cell_type": "code",
   "execution_count": null,
   "id": "2b42654b-936d-4169-83de-22c7c0c8e744",
   "metadata": {},
   "outputs": [],
   "source": []
  },
  {
   "cell_type": "markdown",
   "id": "006cf777-646a-4bb2-b0bc-ec3369e2cd87",
   "metadata": {},
   "source": [
    "#### Q5. Create a generator function for prime numbers less than 1000. Use the next() method to print the first 20 prime numbers."
   ]
  },
  {
   "cell_type": "code",
   "execution_count": 102,
   "id": "cfc2f78f-9653-4069-9a5a-67d7b21370f8",
   "metadata": {},
   "outputs": [
    {
     "name": "stdout",
     "output_type": "stream",
     "text": [
      "1\n",
      "2\n",
      "3\n",
      "5\n",
      "7\n",
      "11\n",
      "13\n",
      "17\n",
      "19\n",
      "23\n",
      "29\n",
      "31\n",
      "37\n",
      "41\n",
      "43\n",
      "47\n",
      "53\n",
      "59\n",
      "61\n",
      "67\n"
     ]
    }
   ],
   "source": [
    "def find_prime_numbers(n):\n",
    "    prime_numbers = []\n",
    "    for i in range(1, n):\n",
    "        flag = False\n",
    "        if i > 3:\n",
    "            for j in range(1, i+1//2):\n",
    "                if(j > 1 and i%j == 0):\n",
    "                    flag = True;\n",
    "                    continue                \n",
    "        if not flag:\n",
    "            prime_numbers.append(i)\n",
    "            \n",
    "    return tuple(prime_numbers)\n",
    "\n",
    "prime_numbers = iter(find_prime_numbers(1000))\n",
    "\n",
    "for i in range(0,20):\n",
    "    print(next(prime_numbers))"
   ]
  },
  {
   "cell_type": "code",
   "execution_count": null,
   "id": "26cc680c-00d4-4b57-a11f-618f4feeee4d",
   "metadata": {},
   "outputs": [],
   "source": []
  }
 ],
 "metadata": {
  "kernelspec": {
   "display_name": "Python 3 (ipykernel)",
   "language": "python",
   "name": "python3"
  },
  "language_info": {
   "codemirror_mode": {
    "name": "ipython",
    "version": 3
   },
   "file_extension": ".py",
   "mimetype": "text/x-python",
   "name": "python",
   "nbconvert_exporter": "python",
   "pygments_lexer": "ipython3",
   "version": "3.10.8"
  }
 },
 "nbformat": 4,
 "nbformat_minor": 5
}
