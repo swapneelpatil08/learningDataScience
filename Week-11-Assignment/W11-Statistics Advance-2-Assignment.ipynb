{
 "cells": [
  {
   "cell_type": "markdown",
   "id": "7c3a9a5d-f761-4a21-b4da-d1585bc60cae",
   "metadata": {},
   "source": [
    "# Statistics Advance-2 Assignment"
   ]
  },
  {
   "cell_type": "markdown",
   "id": "a8cdbe58-0f26-496b-895f-887b17d93e0c",
   "metadata": {},
   "source": [
    "### Q1: What are the Probability Mass Function (PMF) and Probability Density Function (PDF)? Explain with an example.\n",
    "\n",
    "The PDF is a function that describes the probability of a continuous random variable taking on a certain value. It is a mathematical function that describes the probability that a random variable will fall within a certain range of values.\n",
    "\n",
    "The PMF is a function that describes the probability of a discrete random variable taking on a certain value. It is a mathematical function that describes the probability that a random variable will take on a specific value rather than falling within a range of values."
   ]
  },
  {
   "cell_type": "code",
   "execution_count": null,
   "id": "e35bf0a3-82e7-4a45-84ce-3f8650412a29",
   "metadata": {},
   "outputs": [],
   "source": []
  },
  {
   "cell_type": "markdown",
   "id": "d9820e71-f979-4028-9e9c-f5e53647e12f",
   "metadata": {},
   "source": [
    "### Q2: What is Cumulative Density Function (CDF)? Explain with an example. Why CDF is used?\n",
    "\n",
    "The CDF is a function that describes the probability that a random variable (continuous or discrete) will take on a value less than or equal to a certain value. It is a mathematical function that describes the probability that a random variable will fall within a certain range of values, up to and including a specific value."
   ]
  },
  {
   "cell_type": "code",
   "execution_count": null,
   "id": "9c2b4b68-8119-4ef0-a849-bd73d051d0a2",
   "metadata": {},
   "outputs": [],
   "source": []
  },
  {
   "cell_type": "markdown",
   "id": "29748035-736a-4378-8db4-47597d940fef",
   "metadata": {},
   "source": [
    "### Q3: What are some examples of situations where the normal distribution might be used as a model? Explain how the parameters of the normal distribution relate to the shape of the distribution.\n",
    "\n",
    "Below are some examples of the normal distribution:\n",
    "- Blood Pressure\n",
    "- Rolling 2 Dices\n",
    "- Show size\n",
    "- Weight of new born babies.\n",
    "\n",
    "\n",
    "Taking an examples of Blood Pressure of people. Generally it lies between 90/60mmHg and 120/80mmHg. Most of the samples we get that falls under this range which is normal."
   ]
  },
  {
   "cell_type": "code",
   "execution_count": null,
   "id": "9e5145fd-575e-4ddf-9fc7-7b7266db1f3f",
   "metadata": {},
   "outputs": [],
   "source": []
  },
  {
   "cell_type": "markdown",
   "id": "469a5391-3470-4630-a367-0270e3933892",
   "metadata": {},
   "source": [
    "### Q4: Explain the importance of Normal Distribution. Give a few real-life examples of Normal Distribution.\n",
    "\n",
    "It is the most important probability distribution in statistics because it accurately describes the distribution of values for many natural phenomena."
   ]
  },
  {
   "cell_type": "code",
   "execution_count": null,
   "id": "be37128e-4ad0-443e-9a18-2021c3d99a39",
   "metadata": {},
   "outputs": [],
   "source": []
  },
  {
   "cell_type": "markdown",
   "id": "ffb051be-29e2-48cf-899c-6c0b49ee3195",
   "metadata": {},
   "source": [
    "### Q5: What is Bernaulli Distribution? Give an Example. What is the difference between Bernoulli Distribution and Binomial Distribution?\n",
    "\n",
    "Bernoulli distribution is a discret univariate probability distribution. A Bernoulli trial or experiment results in binary outcomes:  success or failure (0 or 1). The trial’s success is denoted as p (x=1), and failure is expressed as 1-p ( x=0)."
   ]
  },
  {
   "cell_type": "code",
   "execution_count": null,
   "id": "caaec548-e0e3-4997-858b-ab54ca505f51",
   "metadata": {},
   "outputs": [],
   "source": []
  },
  {
   "cell_type": "markdown",
   "id": "f8a05ee2-0e78-49de-bfb9-8f895d9a1c53",
   "metadata": {},
   "source": [
    "### Q7: Explain uniform Distribution with an example.\n",
    "\n",
    "Uniform distribution refers to a type of probability distribution in which all outcomes are equally likely.\n",
    "\n",
    "A coin also has a uniform distribution because the probability of getting either heads or tails in a coin toss is the same."
   ]
  },
  {
   "cell_type": "code",
   "execution_count": null,
   "id": "c3432eab-709c-444f-86f8-863734124f13",
   "metadata": {},
   "outputs": [],
   "source": []
  },
  {
   "cell_type": "markdown",
   "id": "1e87806d-0a4a-4547-8933-bdb970145110",
   "metadata": {},
   "source": [
    "### Q8: What is the z score? State the importance of the z score.\n",
    "\n",
    "A z-score describes the position of a raw score in terms of its distance from the mean when measured in standard deviation units. The z-score is positive if the value lies above the mean and negative if it lies below the mean.\n",
    "\n",
    "It is useful to standardize the values \n",
    "- It allows researchers to calculate the probability of a score occurring within a standard normal distribution;\n",
    "- It enables us to compare two scores from different samples (which may have different means and standard deviations)."
   ]
  },
  {
   "cell_type": "code",
   "execution_count": null,
   "id": "32abace0-600b-4272-9ad7-477c781a41c5",
   "metadata": {},
   "outputs": [],
   "source": []
  },
  {
   "cell_type": "markdown",
   "id": "106695ad-961b-45b1-b231-bfbaf39933d2",
   "metadata": {},
   "source": [
    "### Q9: What is Central Limit Theorem? State the significance of the Central Limit Theorem.\n",
    "\n",
    "The central limit theorem (CLT) states that the distribution of a sample variable approximates a normal distribution (i.e., a “bell curve”) as the sample size becomes larger, assuming that all samples are identical in size, and regardless of the population's actual distribution shape.\n",
    "\n",
    "It has 99.7-95-68 rule. Which means \n",
    "- 99.7% of the variables are in distributed in range of mu+/-3sigma. \n",
    "- 95% of the variables are in distributed in range of mu+/-2sigma. \n",
    "- 68% of the variables are in distributed in range of mu+/-1sigma. "
   ]
  },
  {
   "cell_type": "code",
   "execution_count": null,
   "id": "dab71295-108e-4c87-9344-a9ac840371c5",
   "metadata": {},
   "outputs": [],
   "source": []
  },
  {
   "cell_type": "markdown",
   "id": "fa2fae6d-a4eb-44e3-b611-5dbb535b6019",
   "metadata": {},
   "source": []
  }
 ],
 "metadata": {
  "kernelspec": {
   "display_name": "Python 3 (ipykernel)",
   "language": "python",
   "name": "python3"
  },
  "language_info": {
   "codemirror_mode": {
    "name": "ipython",
    "version": 3
   },
   "file_extension": ".py",
   "mimetype": "text/x-python",
   "name": "python",
   "nbconvert_exporter": "python",
   "pygments_lexer": "ipython3",
   "version": "3.10.8"
  }
 },
 "nbformat": 4,
 "nbformat_minor": 5
}
