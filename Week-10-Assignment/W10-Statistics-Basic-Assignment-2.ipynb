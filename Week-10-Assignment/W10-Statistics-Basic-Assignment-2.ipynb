{
 "cells": [
  {
   "cell_type": "markdown",
   "id": "c9d38839-2bb4-4146-967b-fda785ee4242",
   "metadata": {},
   "source": [
    "# Statistics Basics"
   ]
  },
  {
   "cell_type": "markdown",
   "id": "d69e48d3-0d26-4917-85f4-63946e31a4af",
   "metadata": {},
   "source": [
    "### Q1. What are the three measures of central tendency?\n",
    "\n",
    "The 3 most common measures of central tendency are the mode, median, and mean.\n",
    "\n",
    "- Mode: the most frequent value.\n",
    "- Median: the middle number in an ordered dataset.\n",
    "- Mean: the sum of all values divided by the total number of values."
   ]
  },
  {
   "cell_type": "code",
   "execution_count": null,
   "id": "d37237b5-4c84-434d-9932-928b8573fb06",
   "metadata": {},
   "outputs": [],
   "source": []
  },
  {
   "cell_type": "markdown",
   "id": "9e21d925-0b8a-484a-b73e-8c2748f0a62c",
   "metadata": {},
   "source": [
    "### Q2. What is the difference between the mean, median, and mode? How are they used to measure the central tendency of a dataset?\n",
    "\n",
    "- Mode: the most frequent value.\n",
    "- Median: the middle number in an ordered dataset.\n",
    "- Mean: the sum of all values divided by the total number of values."
   ]
  },
  {
   "cell_type": "code",
   "execution_count": null,
   "id": "2a0c85e1-4cd9-4e2e-bdb6-071bc4481393",
   "metadata": {},
   "outputs": [],
   "source": []
  },
  {
   "cell_type": "markdown",
   "id": "f194f8a0-a5a0-4872-8c7d-76cbd626f0ad",
   "metadata": {},
   "source": [
    "### Q3. Measure the three measures of central tendency for the given height data:\n",
    "[178,177,176,177,178.2,178,175,179,180,175,178.9,176.2,177,172.5,178,176.5]"
   ]
  },
  {
   "cell_type": "code",
   "execution_count": 4,
   "id": "0ccd4383-da6a-42ca-a5e6-eb3fefbb1169",
   "metadata": {},
   "outputs": [],
   "source": [
    "import numpy as np\n",
    "data = [178,177,176,177,178.2,178,175,179,180,175,178.9,176.2,177,172.5,178,176.5]"
   ]
  },
  {
   "cell_type": "code",
   "execution_count": 5,
   "id": "4e256939-3850-4da8-b004-8cd8693f04c6",
   "metadata": {},
   "outputs": [
    {
     "data": {
      "text/plain": [
       "177.01875"
      ]
     },
     "execution_count": 5,
     "metadata": {},
     "output_type": "execute_result"
    }
   ],
   "source": [
    "np.mean(data)"
   ]
  },
  {
   "cell_type": "code",
   "execution_count": 6,
   "id": "dd269fda-0d13-478d-901a-109ee4f091d7",
   "metadata": {},
   "outputs": [
    {
     "data": {
      "text/plain": [
       "177.0"
      ]
     },
     "execution_count": 6,
     "metadata": {},
     "output_type": "execute_result"
    }
   ],
   "source": [
    "np.median(data)"
   ]
  },
  {
   "cell_type": "code",
   "execution_count": 9,
   "id": "c7965397-de92-471d-9425-7eca786bdb86",
   "metadata": {},
   "outputs": [
    {
     "name": "stderr",
     "output_type": "stream",
     "text": [
      "/tmp/ipykernel_2230/2800027621.py:2: FutureWarning: Unlike other reduction functions (e.g. `skew`, `kurtosis`), the default behavior of `mode` typically preserves the axis it acts along. In SciPy 1.11.0, this behavior will change: the default value of `keepdims` will become False, the `axis` over which the statistic is taken will be eliminated, and the value None will no longer be accepted. Set `keepdims` to True or False to avoid this warning.\n",
      "  stats.mode(data)\n"
     ]
    },
    {
     "data": {
      "text/plain": [
       "ModeResult(mode=array([177.]), count=array([3]))"
      ]
     },
     "execution_count": 9,
     "metadata": {},
     "output_type": "execute_result"
    }
   ],
   "source": [
    "from scipy import stats\n",
    "stats.mode(data)"
   ]
  },
  {
   "cell_type": "code",
   "execution_count": null,
   "id": "a695e028-69a4-49f2-a3e1-5f6d5268d50f",
   "metadata": {},
   "outputs": [],
   "source": []
  },
  {
   "cell_type": "markdown",
   "id": "a98a93f2-c50a-4357-b77f-56fe258652f3",
   "metadata": {},
   "source": [
    "### Q4. Find the standard deviation for the given data:\n",
    "[178,177,176,177,178.2,178,175,179,180,175,178.9,176.2,177,172.5,178,176.5]"
   ]
  },
  {
   "cell_type": "code",
   "execution_count": 11,
   "id": "0c357a8e-1e8d-42a8-a6f0-ef46f463590d",
   "metadata": {},
   "outputs": [
    {
     "data": {
      "text/plain": [
       "1.7885814036548633"
      ]
     },
     "execution_count": 11,
     "metadata": {},
     "output_type": "execute_result"
    }
   ],
   "source": [
    "data1 = [178,177,176,177,178.2,178,175,179,180,175,178.9,176.2,177,172.5,178,176.5]\n",
    "np.std(data1)"
   ]
  },
  {
   "cell_type": "code",
   "execution_count": null,
   "id": "f0f1903d-e798-4da4-beb1-3d5bf8b77e86",
   "metadata": {},
   "outputs": [],
   "source": []
  },
  {
   "cell_type": "markdown",
   "id": "3fe36905-dba1-40d5-9415-c886c6dd5941",
   "metadata": {},
   "source": [
    "### Q5. How are measures of dispersion such as range, variance, and standard deviation used to describe the spread of a dataset? Provide an example.\n",
    "\n",
    "Range - is the easiest dispersion of data. This can be calculated by substracting the lower value from higher one. The wide range indicate high variability. Small range indicates low variablity in dispersion.\n",
    "\n",
    "Variance - Variance measures how far each number in the dataset from the mean. Observation near to mean value gets the lower result and far from means gets higher value."
   ]
  },
  {
   "cell_type": "code",
   "execution_count": null,
   "id": "7cc426dc-3d3a-474e-bba2-3145e43bb0b4",
   "metadata": {},
   "outputs": [],
   "source": []
  },
  {
   "cell_type": "markdown",
   "id": "75da87c0-df98-46a7-9d18-2ffe367e1be8",
   "metadata": {},
   "source": [
    "### Q6. What is a Venn diagram?\n",
    "\n",
    "Venn diagram is a visual representation of the data. In which moslty dataset is indicated by the circles. Overlapping circles means that data sets have common data in them, not overlapping data is beongs to individual data sets."
   ]
  },
  {
   "cell_type": "code",
   "execution_count": null,
   "id": "f3312e7d-e6dd-4ca9-ba9d-8525dbf7470a",
   "metadata": {},
   "outputs": [],
   "source": []
  },
  {
   "cell_type": "markdown",
   "id": "f15a3c06-35e6-4cf8-aaaf-e21c54dc1cfd",
   "metadata": {},
   "source": [
    "### Q7. For the two given sets A = (2,3,4,5,6,7) & B = (0,2,6,8,10). Find:\n",
    "(i) A  B\n",
    "(ii) A ⋃ B"
   ]
  },
  {
   "cell_type": "code",
   "execution_count": 16,
   "id": "ecfe8f55-8e4e-4e62-96ba-c646503a5268",
   "metadata": {},
   "outputs": [
    {
     "data": {
      "text/plain": [
       "{2, 6}"
      ]
     },
     "execution_count": 16,
     "metadata": {},
     "output_type": "execute_result"
    }
   ],
   "source": [
    "A = {2,3,4,5,6,7}\n",
    "B = {0,2,6,8,10}\n",
    "\n",
    "A.intersection(B)"
   ]
  },
  {
   "cell_type": "code",
   "execution_count": 17,
   "id": "e127a917-f244-459f-8bfb-6ac23aa498e3",
   "metadata": {},
   "outputs": [
    {
     "data": {
      "text/plain": [
       "{0, 2, 3, 4, 5, 6, 7, 8, 10}"
      ]
     },
     "execution_count": 17,
     "metadata": {},
     "output_type": "execute_result"
    }
   ],
   "source": [
    "A.union(B)"
   ]
  },
  {
   "cell_type": "code",
   "execution_count": null,
   "id": "ac98360f-7988-4263-bbd1-9f8f6f4b8eb6",
   "metadata": {},
   "outputs": [],
   "source": []
  }
 ],
 "metadata": {
  "kernelspec": {
   "display_name": "Python 3 (ipykernel)",
   "language": "python",
   "name": "python3"
  },
  "language_info": {
   "codemirror_mode": {
    "name": "ipython",
    "version": 3
   },
   "file_extension": ".py",
   "mimetype": "text/x-python",
   "name": "python",
   "nbconvert_exporter": "python",
   "pygments_lexer": "ipython3",
   "version": "3.10.8"
  }
 },
 "nbformat": 4,
 "nbformat_minor": 5
}
