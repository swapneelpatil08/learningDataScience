{
 "cells": [
  {
   "cell_type": "markdown",
   "id": "8b48752b-0dd7-437e-ad83-cd94e6a8d47e",
   "metadata": {},
   "source": [
    "# Statistics Basics"
   ]
  },
  {
   "cell_type": "markdown",
   "id": "31f144cf-74b1-4e73-92da-db8c155ee63b",
   "metadata": {},
   "source": [
    "### Q1. What is Statistics?\n",
    "\n",
    "Statastics is branch of the science which deals with the collections, organisationa and analysis of data and drawing of the inference of the statistics of the inference from the samples of population.\n",
    "\n",
    "It can be classifieed as - Qualitative and Quantitative.\n",
    "- Qualitative\n",
    "    - Ordinal\n",
    "- Quantitative\n",
    "    - Ordinal\n",
    "    - Discrete\n",
    "    - Continuous\n",
    "        - Ratio\n",
    "        - Interval"
   ]
  },
  {
   "cell_type": "markdown",
   "id": "8e1ffc07-ccc0-4783-a11c-86a4d58119c3",
   "metadata": {},
   "source": [
    "### Q3. What are the different types of data and how do they differ from each other? Provide an example of each type of data.\n",
    "\n",
    "- Qualitative\n",
    "    - Ordinal\n",
    "- Quantitative\n",
    "    - Ordinal\n",
    "    - Discrete\n",
    "    - Continuous\n",
    "        - Ratio\n",
    "        - Interval"
   ]
  },
  {
   "cell_type": "code",
   "execution_count": null,
   "id": "37cd8330-e5b5-4a35-b4b6-31c884351a32",
   "metadata": {},
   "outputs": [],
   "source": []
  },
  {
   "cell_type": "markdown",
   "id": "2875814e-320b-4b91-a2e8-46aed1ce02c7",
   "metadata": {},
   "source": [
    "### Q4. Categorise the following datasets with respect to quantitative and qualitative data types:\n",
    "- (i) Grading in exam: A+, A, B+, B, C+, C, D, E : Ratio\n",
    "- (ii) Colour of mangoes: yellow, green, orange, red : Nominal Data\n",
    "- (iii) Height data of a class: [178.9, 179, 179.5, 176, 177.2, 178.3, 175.8,...] : Ordinal Data.\n",
    "- (iv) Number of mangoes exported by a farm: [500, 600, 478, 672, ...] : Ordinal Data."
   ]
  },
  {
   "cell_type": "code",
   "execution_count": null,
   "id": "413ffe9e-2e30-4ada-a847-1a71a224f3cd",
   "metadata": {},
   "outputs": [],
   "source": []
  },
  {
   "cell_type": "markdown",
   "id": "5f3bfc40-0cbf-44c7-990e-19101f1f2d3a",
   "metadata": {},
   "source": [
    "### Q5. Explain the concept of levels of measurement and give an example of a variable for each level.\n",
    "\n",
    "Level of measurement, also known as scale of measurement, refers to the process of categorizing data based on the characteristics and properties of the data. It is important in statistics because it helps determine the appropriate statistical methods and tests that can be used to analyze the data.\n",
    "\n",
    "4 Levels of Measurement: \n",
    "- Nominal: Gender data\n",
    "- Ordinal: Grades of the students\n",
    "- Interval: Income ranges.\n",
    "- Ratio: Age of people."
   ]
  },
  {
   "cell_type": "code",
   "execution_count": null,
   "id": "ba4f6d78-8afe-4ba8-bdfa-a9d5cce0bc84",
   "metadata": {},
   "outputs": [],
   "source": []
  },
  {
   "cell_type": "markdown",
   "id": "9ca8b8f9-01e9-4116-a6f7-5a8774d4939a",
   "metadata": {},
   "source": [
    "### Q6. Why is it important to understand the level of measurement when analyzing data? Provide an example to illustrate your answer.\n",
    "\n",
    "Level of measurement is important as it determines the type of statistical analysis you can carry out. As a result, it affects both the nature and the depth of insights you’re able to glean from your data. Certain statistical tests can only be performed where more precise levels of measurement have been used, so it’s essential to plan in advance how you’ll gather and measure your data."
   ]
  },
  {
   "cell_type": "code",
   "execution_count": null,
   "id": "9ef65ffe-2706-489f-8cc0-79e066f32e8c",
   "metadata": {},
   "outputs": [],
   "source": []
  },
  {
   "cell_type": "markdown",
   "id": "6eb43406-e1e0-425d-902c-9bf465ff2add",
   "metadata": {},
   "source": [
    "### Q7. How nominal data type is different from ordinal data type.\n",
    "\n",
    "Nominal Data - This is label based data, which can't be categorised. These don't have any numerical value or any hierarchy to follow.\n",
    "\n",
    "Ordinal Data - This is also label based data but can be categorised as they have hierachy in their data."
   ]
  },
  {
   "cell_type": "code",
   "execution_count": null,
   "id": "b93e6cb0-c338-4275-a76a-d347240275d4",
   "metadata": {},
   "outputs": [],
   "source": []
  },
  {
   "cell_type": "markdown",
   "id": "b6f740f2-f1e8-4c9b-8be2-d19530103bf5",
   "metadata": {},
   "source": [
    "### Q8. Which type of plot can be used to display data in terms of range?\n",
    "\n",
    "Range Chart"
   ]
  },
  {
   "cell_type": "code",
   "execution_count": null,
   "id": "d1a94b9b-d1ad-49f1-9d9a-6a81aedfbe92",
   "metadata": {},
   "outputs": [],
   "source": []
  },
  {
   "cell_type": "code",
   "execution_count": null,
   "id": "f413a7c2-2397-4a51-ba6b-9412268d9773",
   "metadata": {},
   "outputs": [],
   "source": []
  },
  {
   "cell_type": "markdown",
   "id": "800cecb8-aa59-4c59-a26b-9af19356bb9c",
   "metadata": {},
   "source": [
    "### Q10. What are some common measures of central tendency and variability used in statistics? Explain how each measure can be used to describe a dataset.\n",
    "\n",
    "The 3 most common measures of central tendency are the mode, median, and mean.\n",
    "\n",
    "- Mode: the most frequent value.\n",
    "- Median: the middle number in an ordered dataset.\n",
    "- Mean: the sum of all values divided by the total number of values.\n",
    "\n",
    "Variablity helps to undeerstand the data dispersion over the range, which will be helpful for better understanding."
   ]
  },
  {
   "cell_type": "code",
   "execution_count": null,
   "id": "7ff86372-5519-450b-a005-dba492046237",
   "metadata": {},
   "outputs": [],
   "source": []
  }
 ],
 "metadata": {
  "kernelspec": {
   "display_name": "Python 3 (ipykernel)",
   "language": "python",
   "name": "python3"
  },
  "language_info": {
   "codemirror_mode": {
    "name": "ipython",
    "version": 3
   },
   "file_extension": ".py",
   "mimetype": "text/x-python",
   "name": "python",
   "nbconvert_exporter": "python",
   "pygments_lexer": "ipython3",
   "version": "3.10.8"
  }
 },
 "nbformat": 4,
 "nbformat_minor": 5
}
